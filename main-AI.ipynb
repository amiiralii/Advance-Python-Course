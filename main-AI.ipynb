{
 "cells": [
  {
   "cell_type": "code",
   "execution_count": 1,
   "id": "a2f172e1",
   "metadata": {},
   "outputs": [],
   "source": [
    "import pandas as pd\n",
    "import numpy as np\n",
    "import mariadb"
   ]
  },
  {
   "cell_type": "markdown",
   "id": "f3ca5df4",
   "metadata": {},
   "source": [
    "## Connecting to database to collect data deriven from website"
   ]
  },
  {
   "cell_type": "code",
   "execution_count": 62,
   "id": "8f324681",
   "metadata": {},
   "outputs": [
    {
     "name": "stdout",
     "output_type": "stream",
     "text": [
      "Connected to db laptops\n"
     ]
    }
   ],
   "source": [
    "# Connecting to db\n",
    "try:\n",
    "    conn = mariadb.connect(\n",
    "        user=\"root\",\n",
    "        password=\"root\",\n",
    "        host=\"127.0.0.1\",\n",
    "        port=3306,\n",
    "        database=\"laptops\"\n",
    "    )\n",
    "except mariadb.Error as e:\n",
    "    print(f\"Error connecting to MariaDB Platform: {e}\")\n",
    "    sys.exit(1)\n",
    "\n",
    "print('Connected to db laptops')\n",
    "\n",
    "cur = conn.cursor()"
   ]
  },
  {
   "cell_type": "code",
   "execution_count": 63,
   "id": "5ad8c803",
   "metadata": {},
   "outputs": [],
   "source": [
    "query = 'SELECT * from laptops;'\n",
    "df = pd.read_sql(query, conn)"
   ]
  },
  {
   "cell_type": "code",
   "execution_count": 64,
   "id": "b43f1937",
   "metadata": {},
   "outputs": [],
   "source": [
    "conn.close()"
   ]
  },
  {
   "cell_type": "markdown",
   "id": "78435671",
   "metadata": {},
   "source": [
    "## Cleaning and preparing data "
   ]
  },
  {
   "cell_type": "code",
   "execution_count": 65,
   "id": "fa260de9",
   "metadata": {},
   "outputs": [
    {
     "data": {
      "text/html": [
       "<div>\n",
       "<style scoped>\n",
       "    .dataframe tbody tr th:only-of-type {\n",
       "        vertical-align: middle;\n",
       "    }\n",
       "\n",
       "    .dataframe tbody tr th {\n",
       "        vertical-align: top;\n",
       "    }\n",
       "\n",
       "    .dataframe thead th {\n",
       "        text-align: right;\n",
       "    }\n",
       "</style>\n",
       "<table border=\"1\" class=\"dataframe\">\n",
       "  <thead>\n",
       "    <tr style=\"text-align: right;\">\n",
       "      <th></th>\n",
       "      <th>title</th>\n",
       "      <th>price</th>\n",
       "      <th>graphicsCard</th>\n",
       "      <th>processor</th>\n",
       "      <th>screen</th>\n",
       "      <th>ram</th>\n",
       "      <th>memmory</th>\n",
       "    </tr>\n",
       "  </thead>\n",
       "  <tbody>\n",
       "    <tr>\n",
       "      <th>0</th>\n",
       "      <td>Acer Aspire 5 Core i5-1035G1 8GB 512GB SSD 15....</td>\n",
       "      <td>£579.97</td>\n",
       "      <td>UHD Graphics 620</td>\n",
       "      <td>Intel Core i5 1035G1</td>\n",
       "      <td>15.6 Inch Full HD Screen</td>\n",
       "      <td>8GB</td>\n",
       "      <td>512GB</td>\n",
       "    </tr>\n",
       "    <tr>\n",
       "      <th>1</th>\n",
       "      <td>Lenovo V15-IIL Core i5-1035G1 8GB 256GB SSD 15...</td>\n",
       "      <td>£549.97</td>\n",
       "      <td>UHD Graphics 620</td>\n",
       "      <td>Intel Core i5 1035G1</td>\n",
       "      <td>15.6 Inch Full HD Screen</td>\n",
       "      <td>8GB</td>\n",
       "      <td>256GB</td>\n",
       "    </tr>\n",
       "    <tr>\n",
       "      <th>2</th>\n",
       "      <td>Refurbished Lenovo Yoga 11e Intel Celeron N294...</td>\n",
       "      <td>£119.97</td>\n",
       "      <td></td>\n",
       "      <td>Intel Celeron N2940</td>\n",
       "      <td>11.6 Inch 1366 x 768 Screen</td>\n",
       "      <td>4GB</td>\n",
       "      <td>16GB</td>\n",
       "    </tr>\n",
       "    <tr>\n",
       "      <th>3</th>\n",
       "      <td>Asus C223NA Intel Celeron N3350 4GB 32GB eMMC ...</td>\n",
       "      <td>£179.97</td>\n",
       "      <td></td>\n",
       "      <td>Intel Celeron N3350</td>\n",
       "      <td>11.6 Inch 1366 x 768 Screen</td>\n",
       "      <td>4GB</td>\n",
       "      <td>32GB</td>\n",
       "    </tr>\n",
       "    <tr>\n",
       "      <th>4</th>\n",
       "      <td>CODA 1.2 Intel Celeron N4020 4GB 64GB eMMC 12....</td>\n",
       "      <td>£199.97</td>\n",
       "      <td>UHD Graphics 620</td>\n",
       "      <td>Intel Celeron N4020</td>\n",
       "      <td>12.5 Inch 1366 x 768 Screen</td>\n",
       "      <td>4GB</td>\n",
       "      <td>64GB</td>\n",
       "    </tr>\n",
       "  </tbody>\n",
       "</table>\n",
       "</div>"
      ],
      "text/plain": [
       "                                               title    price  \\\n",
       "0  Acer Aspire 5 Core i5-1035G1 8GB 512GB SSD 15....  £579.97   \n",
       "1  Lenovo V15-IIL Core i5-1035G1 8GB 256GB SSD 15...  £549.97   \n",
       "2  Refurbished Lenovo Yoga 11e Intel Celeron N294...  £119.97   \n",
       "3  Asus C223NA Intel Celeron N3350 4GB 32GB eMMC ...  £179.97   \n",
       "4  CODA 1.2 Intel Celeron N4020 4GB 64GB eMMC 12....  £199.97   \n",
       "\n",
       "       graphicsCard             processor                       screen  ram  \\\n",
       "0  UHD Graphics 620  Intel Core i5 1035G1     15.6 Inch Full HD Screen  8GB   \n",
       "1  UHD Graphics 620  Intel Core i5 1035G1     15.6 Inch Full HD Screen  8GB   \n",
       "2                     Intel Celeron N2940  11.6 Inch 1366 x 768 Screen  4GB   \n",
       "3                     Intel Celeron N3350  11.6 Inch 1366 x 768 Screen  4GB   \n",
       "4  UHD Graphics 620   Intel Celeron N4020  12.5 Inch 1366 x 768 Screen  4GB   \n",
       "\n",
       "  memmory  \n",
       "0   512GB  \n",
       "1   256GB  \n",
       "2    16GB  \n",
       "3    32GB  \n",
       "4    64GB  "
      ]
     },
     "execution_count": 65,
     "metadata": {},
     "output_type": "execute_result"
    }
   ],
   "source": [
    "df.head()"
   ]
  },
  {
   "cell_type": "code",
   "execution_count": 8,
   "id": "3ff97429",
   "metadata": {},
   "outputs": [
    {
     "name": "stdout",
     "output_type": "stream",
     "text": [
      "<class 'pandas.core.frame.DataFrame'>\n",
      "RangeIndex: 879 entries, 0 to 878\n",
      "Data columns (total 7 columns):\n",
      " #   Column        Non-Null Count  Dtype \n",
      "---  ------        --------------  ----- \n",
      " 0   title         879 non-null    object\n",
      " 1   price         879 non-null    object\n",
      " 2   graphicsCard  879 non-null    object\n",
      " 3   processor     879 non-null    object\n",
      " 4   screen        879 non-null    object\n",
      " 5   ram           879 non-null    object\n",
      " 6   memmory       879 non-null    object\n",
      "dtypes: object(7)\n",
      "memory usage: 48.2+ KB\n"
     ]
    }
   ],
   "source": [
    "df.info()"
   ]
  },
  {
   "cell_type": "code",
   "execution_count": 9,
   "id": "300072e9",
   "metadata": {
    "scrolled": true
   },
   "outputs": [
    {
     "data": {
      "text/html": [
       "<div>\n",
       "<style scoped>\n",
       "    .dataframe tbody tr th:only-of-type {\n",
       "        vertical-align: middle;\n",
       "    }\n",
       "\n",
       "    .dataframe tbody tr th {\n",
       "        vertical-align: top;\n",
       "    }\n",
       "\n",
       "    .dataframe thead th {\n",
       "        text-align: right;\n",
       "    }\n",
       "</style>\n",
       "<table border=\"1\" class=\"dataframe\">\n",
       "  <thead>\n",
       "    <tr style=\"text-align: right;\">\n",
       "      <th></th>\n",
       "      <th>title</th>\n",
       "      <th>price</th>\n",
       "      <th>graphicsCard</th>\n",
       "      <th>processor</th>\n",
       "      <th>screen</th>\n",
       "      <th>ram</th>\n",
       "      <th>memmory</th>\n",
       "    </tr>\n",
       "  </thead>\n",
       "  <tbody>\n",
       "    <tr>\n",
       "      <th>count</th>\n",
       "      <td>879</td>\n",
       "      <td>879</td>\n",
       "      <td>879</td>\n",
       "      <td>879</td>\n",
       "      <td>879</td>\n",
       "      <td>879</td>\n",
       "      <td>879</td>\n",
       "    </tr>\n",
       "    <tr>\n",
       "      <th>unique</th>\n",
       "      <td>781</td>\n",
       "      <td>330</td>\n",
       "      <td>47</td>\n",
       "      <td>148</td>\n",
       "      <td>60</td>\n",
       "      <td>7</td>\n",
       "      <td>15</td>\n",
       "    </tr>\n",
       "    <tr>\n",
       "      <th>top</th>\n",
       "      <td>Refurbished HP 11A G8 AMD A4-9120C 4GB 32GB 11...</td>\n",
       "      <td>£179.97</td>\n",
       "      <td></td>\n",
       "      <td>Intel Core i5 10210U</td>\n",
       "      <td>14 Inch Full HD Screen</td>\n",
       "      <td>8GB</td>\n",
       "      <td>256GB</td>\n",
       "    </tr>\n",
       "    <tr>\n",
       "      <th>freq</th>\n",
       "      <td>2</td>\n",
       "      <td>21</td>\n",
       "      <td>473</td>\n",
       "      <td>59</td>\n",
       "      <td>240</td>\n",
       "      <td>439</td>\n",
       "      <td>286</td>\n",
       "    </tr>\n",
       "  </tbody>\n",
       "</table>\n",
       "</div>"
      ],
      "text/plain": [
       "                                                    title    price  \\\n",
       "count                                                 879      879   \n",
       "unique                                                781      330   \n",
       "top     Refurbished HP 11A G8 AMD A4-9120C 4GB 32GB 11...  £179.97   \n",
       "freq                                                    2       21   \n",
       "\n",
       "       graphicsCard             processor                  screen  ram memmory  \n",
       "count           879                   879                     879  879     879  \n",
       "unique           47                   148                      60    7      15  \n",
       "top                  Intel Core i5 10210U  14 Inch Full HD Screen  8GB   256GB  \n",
       "freq            473                    59                     240  439     286  "
      ]
     },
     "execution_count": 9,
     "metadata": {},
     "output_type": "execute_result"
    }
   ],
   "source": [
    "df.describe()"
   ]
  },
  {
   "cell_type": "code",
   "execution_count": 10,
   "id": "c8a9aeec",
   "metadata": {
    "scrolled": true
   },
   "outputs": [
    {
     "data": {
      "text/plain": [
       "title           0\n",
       "price           0\n",
       "graphicsCard    0\n",
       "processor       0\n",
       "screen          0\n",
       "ram             0\n",
       "memmory         0\n",
       "dtype: int64"
      ]
     },
     "execution_count": 10,
     "metadata": {},
     "output_type": "execute_result"
    }
   ],
   "source": [
    "df.isnull().sum()"
   ]
  },
  {
   "cell_type": "code",
   "execution_count": 11,
   "id": "b640a32a",
   "metadata": {
    "scrolled": true
   },
   "outputs": [
    {
     "data": {
      "text/plain": [
       "title             0\n",
       "price            16\n",
       "graphicsCard    473\n",
       "processor        45\n",
       "screen           43\n",
       "ram              45\n",
       "memmory          57\n",
       "dtype: int64"
      ]
     },
     "execution_count": 11,
     "metadata": {},
     "output_type": "execute_result"
    }
   ],
   "source": [
    "df.replace({\"\": None}).isnull().sum()"
   ]
  },
  {
   "cell_type": "markdown",
   "id": "5dd8107c",
   "metadata": {},
   "source": [
    "### Replacing spaces with null value"
   ]
  },
  {
   "cell_type": "code",
   "execution_count": 66,
   "id": "dae7adcd",
   "metadata": {},
   "outputs": [],
   "source": [
    "df.replace({\"\":None}, inplace=True)"
   ]
  },
  {
   "cell_type": "code",
   "execution_count": 13,
   "id": "674d32c3",
   "metadata": {
    "scrolled": true
   },
   "outputs": [
    {
     "data": {
      "text/plain": [
       "title             0\n",
       "price            16\n",
       "graphicsCard    473\n",
       "processor        45\n",
       "screen           43\n",
       "ram              45\n",
       "memmory          57\n",
       "dtype: int64"
      ]
     },
     "execution_count": 13,
     "metadata": {},
     "output_type": "execute_result"
    }
   ],
   "source": [
    "df.isnull().sum()"
   ]
  },
  {
   "cell_type": "code",
   "execution_count": 15,
   "id": "a5820997",
   "metadata": {
    "scrolled": true
   },
   "outputs": [
    {
     "data": {
      "text/html": [
       "<div>\n",
       "<style scoped>\n",
       "    .dataframe tbody tr th:only-of-type {\n",
       "        vertical-align: middle;\n",
       "    }\n",
       "\n",
       "    .dataframe tbody tr th {\n",
       "        vertical-align: top;\n",
       "    }\n",
       "\n",
       "    .dataframe thead th {\n",
       "        text-align: right;\n",
       "    }\n",
       "</style>\n",
       "<table border=\"1\" class=\"dataframe\">\n",
       "  <thead>\n",
       "    <tr style=\"text-align: right;\">\n",
       "      <th></th>\n",
       "      <th>title</th>\n",
       "      <th>price</th>\n",
       "      <th>graphicsCard</th>\n",
       "      <th>processor</th>\n",
       "      <th>screen</th>\n",
       "      <th>ram</th>\n",
       "      <th>memmory</th>\n",
       "    </tr>\n",
       "  </thead>\n",
       "  <tbody>\n",
       "    <tr>\n",
       "      <th>263</th>\n",
       "      <td>Acer Travel Mate B3 Intel Celeron  N4020 4GB 6...</td>\n",
       "      <td>None</td>\n",
       "      <td>UHD Graphics 620</td>\n",
       "      <td>Intel Celeron N4020</td>\n",
       "      <td>11.6 Inch 1366 x 768 Screen</td>\n",
       "      <td>4GB</td>\n",
       "      <td>64GB</td>\n",
       "    </tr>\n",
       "    <tr>\n",
       "      <th>275</th>\n",
       "      <td>Toshiba Dynabook Satellite Pro C40-H-105 Core ...</td>\n",
       "      <td>None</td>\n",
       "      <td>UHD Graphics 620</td>\n",
       "      <td>Intel Core i7 1065G7</td>\n",
       "      <td>14 Inch Full HD Screen</td>\n",
       "      <td>8GB</td>\n",
       "      <td>256GB</td>\n",
       "    </tr>\n",
       "    <tr>\n",
       "      <th>290</th>\n",
       "      <td>Acer Travel Mate Spin B3 Intel Pentium N5030 4...</td>\n",
       "      <td>None</td>\n",
       "      <td>UHD Graphics 620</td>\n",
       "      <td>Intel Pentium N5030</td>\n",
       "      <td>11.6 Inch Full HD Screen</td>\n",
       "      <td>4GB</td>\n",
       "      <td>128GB</td>\n",
       "    </tr>\n",
       "    <tr>\n",
       "      <th>370</th>\n",
       "      <td>Toshiba Dynabook Satellite Pro C40-G-111 Core ...</td>\n",
       "      <td>None</td>\n",
       "      <td>UHD Graphics 620</td>\n",
       "      <td>Intel Core i3 10110U</td>\n",
       "      <td>14 Inch 1366 x 768 Screen</td>\n",
       "      <td>8GB</td>\n",
       "      <td>256GB</td>\n",
       "    </tr>\n",
       "    <tr>\n",
       "      <th>418</th>\n",
       "      <td>Toshiba Dynabook Satellite Pro C40-H-111 Core ...</td>\n",
       "      <td>None</td>\n",
       "      <td>UHD Graphics 620</td>\n",
       "      <td>Intel Core i5 1035G1</td>\n",
       "      <td>14 Inch Full HD Screen</td>\n",
       "      <td>8GB</td>\n",
       "      <td>256GB</td>\n",
       "    </tr>\n",
       "  </tbody>\n",
       "</table>\n",
       "</div>"
      ],
      "text/plain": [
       "                                                 title price  \\\n",
       "263  Acer Travel Mate B3 Intel Celeron  N4020 4GB 6...  None   \n",
       "275  Toshiba Dynabook Satellite Pro C40-H-105 Core ...  None   \n",
       "290  Acer Travel Mate Spin B3 Intel Pentium N5030 4...  None   \n",
       "370  Toshiba Dynabook Satellite Pro C40-G-111 Core ...  None   \n",
       "418  Toshiba Dynabook Satellite Pro C40-H-111 Core ...  None   \n",
       "\n",
       "         graphicsCard             processor                       screen  ram  \\\n",
       "263  UHD Graphics 620   Intel Celeron N4020  11.6 Inch 1366 x 768 Screen  4GB   \n",
       "275  UHD Graphics 620  Intel Core i7 1065G7       14 Inch Full HD Screen  8GB   \n",
       "290  UHD Graphics 620   Intel Pentium N5030     11.6 Inch Full HD Screen  4GB   \n",
       "370  UHD Graphics 620  Intel Core i3 10110U    14 Inch 1366 x 768 Screen  8GB   \n",
       "418  UHD Graphics 620  Intel Core i5 1035G1       14 Inch Full HD Screen  8GB   \n",
       "\n",
       "    memmory  \n",
       "263    64GB  \n",
       "275   256GB  \n",
       "290   128GB  \n",
       "370   256GB  \n",
       "418   256GB  "
      ]
     },
     "execution_count": 15,
     "metadata": {},
     "output_type": "execute_result"
    }
   ],
   "source": [
    "no_price_data = df[ df['price'].isnull() ]\n",
    "no_price_data.head(5)"
   ]
  },
  {
   "cell_type": "markdown",
   "id": "d7ff1585",
   "metadata": {},
   "source": [
    "### converting price values to float objects"
   ]
  },
  {
   "cell_type": "code",
   "execution_count": 67,
   "id": "367be90c",
   "metadata": {},
   "outputs": [],
   "source": [
    "df['price'] = df['price'].str[1:]"
   ]
  },
  {
   "cell_type": "code",
   "execution_count": 68,
   "id": "443d23f6",
   "metadata": {
    "scrolled": true
   },
   "outputs": [],
   "source": [
    "df['price'] = df['price'].astype('float')"
   ]
  },
  {
   "cell_type": "code",
   "execution_count": 24,
   "id": "4252fc7c",
   "metadata": {},
   "outputs": [
    {
     "name": "stdout",
     "output_type": "stream",
     "text": [
      "<class 'pandas.core.frame.DataFrame'>\n",
      "RangeIndex: 879 entries, 0 to 878\n",
      "Data columns (total 7 columns):\n",
      " #   Column        Non-Null Count  Dtype  \n",
      "---  ------        --------------  -----  \n",
      " 0   title         879 non-null    object \n",
      " 1   price         863 non-null    float64\n",
      " 2   graphicsCard  406 non-null    object \n",
      " 3   processor     834 non-null    object \n",
      " 4   screen        836 non-null    object \n",
      " 5   ram           834 non-null    object \n",
      " 6   memmory       822 non-null    object \n",
      "dtypes: float64(1), object(6)\n",
      "memory usage: 48.2+ KB\n"
     ]
    }
   ],
   "source": [
    "df.info()"
   ]
  },
  {
   "cell_type": "code",
   "execution_count": 25,
   "id": "cf348b0c",
   "metadata": {
    "scrolled": true
   },
   "outputs": [
    {
     "data": {
      "text/plain": [
       "title             0\n",
       "price            16\n",
       "graphicsCard    473\n",
       "processor        45\n",
       "screen           43\n",
       "ram              45\n",
       "memmory          57\n",
       "dtype: int64"
      ]
     },
     "execution_count": 25,
     "metadata": {},
     "output_type": "execute_result"
    }
   ],
   "source": [
    "df.isnull().sum()"
   ]
  },
  {
   "cell_type": "markdown",
   "id": "720dbd7d",
   "metadata": {},
   "source": [
    "### converting RAM values to float objects"
   ]
  },
  {
   "cell_type": "code",
   "execution_count": 28,
   "id": "e0a1511b",
   "metadata": {},
   "outputs": [
    {
     "data": {
      "text/plain": [
       "array(['8GB', '4GB', '16GB', None, '2GB', '32GB', '64GB'], dtype=object)"
      ]
     },
     "execution_count": 28,
     "metadata": {},
     "output_type": "execute_result"
    }
   ],
   "source": [
    "df['ram'].unique()"
   ]
  },
  {
   "cell_type": "code",
   "execution_count": 30,
   "id": "f6dfdf15",
   "metadata": {},
   "outputs": [
    {
     "data": {
      "text/plain": [
       "array(['8', '4', '16', None, '2', '32', '64'], dtype=object)"
      ]
     },
     "execution_count": 30,
     "metadata": {},
     "output_type": "execute_result"
    }
   ],
   "source": [
    "df['ram'].str[:-2].unique()"
   ]
  },
  {
   "cell_type": "code",
   "execution_count": 69,
   "id": "2d3c6cfc",
   "metadata": {},
   "outputs": [],
   "source": [
    "df['ram'] = df['ram'].str[:-2]"
   ]
  },
  {
   "cell_type": "code",
   "execution_count": 70,
   "id": "314491ca",
   "metadata": {},
   "outputs": [],
   "source": [
    "df['ram'] = df['ram'].astype('float')"
   ]
  },
  {
   "cell_type": "code",
   "execution_count": 189,
   "id": "96ec1610",
   "metadata": {
    "scrolled": true
   },
   "outputs": [
    {
     "name": "stdout",
     "output_type": "stream",
     "text": [
      "<class 'pandas.core.frame.DataFrame'>\n",
      "RangeIndex: 879 entries, 0 to 878\n",
      "Data columns (total 7 columns):\n",
      " #   Column        Non-Null Count  Dtype  \n",
      "---  ------        --------------  -----  \n",
      " 0   title         879 non-null    object \n",
      " 1   price         863 non-null    float64\n",
      " 2   graphicsCard  406 non-null    object \n",
      " 3   processor     834 non-null    object \n",
      " 4   screen        836 non-null    float64\n",
      " 5   ram           834 non-null    float64\n",
      " 6   memmory       822 non-null    float64\n",
      "dtypes: float64(4), object(3)\n",
      "memory usage: 48.2+ KB\n"
     ]
    }
   ],
   "source": [
    "df.info()"
   ]
  },
  {
   "cell_type": "markdown",
   "id": "c9243c99",
   "metadata": {},
   "source": [
    "### converting Memmory values to float objects"
   ]
  },
  {
   "cell_type": "code",
   "execution_count": 38,
   "id": "624297b6",
   "metadata": {},
   "outputs": [
    {
     "data": {
      "text/plain": [
       "array(['512GB', '256GB', '16GB', '32GB', '64GB', '1TB Hard Drive + 1GB',\n",
       "       '128GB', '1GB', '1TB', '2TB', None, '120GB',\n",
       "       '1TB Hard Drive + 512GB', '1TB Hard Drive + 256GB', '255GB'],\n",
       "      dtype=object)"
      ]
     },
     "execution_count": 38,
     "metadata": {},
     "output_type": "execute_result"
    }
   ],
   "source": [
    "df['memmory'].unique()"
   ]
  },
  {
   "cell_type": "code",
   "execution_count": 40,
   "id": "d21bf869",
   "metadata": {},
   "outputs": [
    {
     "data": {
      "text/plain": [
       "array(['512GB', '256GB', '16GB', '32GB', '64GB',\n",
       "       '1000GB Hard Drive + 1GB', '128GB', '1GB', '1000GB', '2000GB',\n",
       "       None, '120GB', '1000GB Hard Drive + 512GB',\n",
       "       '1000GB Hard Drive + 256GB', '255GB'], dtype=object)"
      ]
     },
     "execution_count": 40,
     "metadata": {},
     "output_type": "execute_result"
    }
   ],
   "source": [
    "df['memmory'].str.replace('TB','000GB').unique()"
   ]
  },
  {
   "cell_type": "code",
   "execution_count": 71,
   "id": "bbfbd709",
   "metadata": {},
   "outputs": [],
   "source": [
    "df['memmory']=df['memmory'].str.replace('TB','000GB')"
   ]
  },
  {
   "cell_type": "code",
   "execution_count": 82,
   "id": "b2059352",
   "metadata": {
    "scrolled": true
   },
   "outputs": [
    {
     "data": {
      "text/plain": [
       "13       + 1GB\n",
       "288    + 512GB\n",
       "414    + 512GB\n",
       "467    + 512GB\n",
       "523    + 512GB\n",
       "539    + 256GB\n",
       "690    + 256GB\n",
       "Name: memmory, dtype: object"
      ]
     },
     "execution_count": 82,
     "metadata": {},
     "output_type": "execute_result"
    }
   ],
   "source": [
    "df[ df['memmory'].str.find('+') > 0 ]['memmory'].str[18:]"
   ]
  },
  {
   "cell_type": "code",
   "execution_count": 92,
   "id": "9ac56964",
   "metadata": {},
   "outputs": [],
   "source": [
    "tmp = df['memmory'].str.find('+') > 0 \n",
    "df.loc[tmp, 'memmory'] =df.loc[tmp, 'memmory'].str[18:]"
   ]
  },
  {
   "cell_type": "code",
   "execution_count": 93,
   "id": "c53fe104",
   "metadata": {},
   "outputs": [
    {
     "data": {
      "text/plain": [
       "array(['512GB', '256GB', '16GB', '32GB', '64GB', '+ 1GB', '128GB', '1GB',\n",
       "       '1000GB', '2000GB', None, '120GB', '+ 512GB', '+ 256GB', '255GB'],\n",
       "      dtype=object)"
      ]
     },
     "execution_count": 93,
     "metadata": {},
     "output_type": "execute_result"
    }
   ],
   "source": [
    "df['memmory'].unique()"
   ]
  },
  {
   "cell_type": "code",
   "execution_count": 102,
   "id": "36226a71",
   "metadata": {},
   "outputs": [
    {
     "name": "stderr",
     "output_type": "stream",
     "text": [
      "C:\\Users\\amira\\AppData\\Local\\Temp/ipykernel_12236/1177764762.py:1: FutureWarning: The default value of regex will change from True to False in a future version. In addition, single character regular expressions will *not* be treated as literal strings when regex=True.\n",
      "  df['memmory']=df['memmory'].str.replace('+','')\n"
     ]
    }
   ],
   "source": [
    "df['memmory']=df['memmory'].str.replace('+','')"
   ]
  },
  {
   "cell_type": "code",
   "execution_count": 103,
   "id": "8272ef41",
   "metadata": {},
   "outputs": [
    {
     "data": {
      "text/plain": [
       "array(['512GB', '256GB', '16GB', '32GB', '64GB', ' 1GB', '128GB', '1GB',\n",
       "       '1000GB', '2000GB', None, '120GB', ' 512GB', ' 256GB', '255GB'],\n",
       "      dtype=object)"
      ]
     },
     "execution_count": 103,
     "metadata": {},
     "output_type": "execute_result"
    }
   ],
   "source": [
    "df['memmory'].unique()"
   ]
  },
  {
   "cell_type": "code",
   "execution_count": 108,
   "id": "daaf3d25",
   "metadata": {},
   "outputs": [],
   "source": [
    "df['memmory']=df['memmory'].str.strip()"
   ]
  },
  {
   "cell_type": "code",
   "execution_count": 109,
   "id": "34dabb6d",
   "metadata": {},
   "outputs": [
    {
     "data": {
      "text/plain": [
       "array(['512GB', '256GB', '16GB', '32GB', '64GB', '1GB', '128GB', '1000GB',\n",
       "       '2000GB', None, '120GB', '255GB'], dtype=object)"
      ]
     },
     "execution_count": 109,
     "metadata": {},
     "output_type": "execute_result"
    }
   ],
   "source": [
    "df['memmory'].unique()"
   ]
  },
  {
   "cell_type": "code",
   "execution_count": 110,
   "id": "07f5bd91",
   "metadata": {},
   "outputs": [],
   "source": [
    "df['memmory'] = df['memmory'].str[:-2]"
   ]
  },
  {
   "cell_type": "code",
   "execution_count": 111,
   "id": "79ad37b1",
   "metadata": {},
   "outputs": [
    {
     "data": {
      "text/plain": [
       "array(['512', '256', '16', '32', '64', '1', '128', '1000', '2000', None,\n",
       "       '120', '255'], dtype=object)"
      ]
     },
     "execution_count": 111,
     "metadata": {},
     "output_type": "execute_result"
    }
   ],
   "source": [
    "df['memmory'].unique()"
   ]
  },
  {
   "cell_type": "code",
   "execution_count": 113,
   "id": "38d43177",
   "metadata": {},
   "outputs": [],
   "source": [
    "df['memmory']=df['memmory'].astype('float')"
   ]
  },
  {
   "cell_type": "code",
   "execution_count": 114,
   "id": "f23f4c71",
   "metadata": {
    "scrolled": true
   },
   "outputs": [
    {
     "name": "stdout",
     "output_type": "stream",
     "text": [
      "<class 'pandas.core.frame.DataFrame'>\n",
      "RangeIndex: 879 entries, 0 to 878\n",
      "Data columns (total 7 columns):\n",
      " #   Column        Non-Null Count  Dtype  \n",
      "---  ------        --------------  -----  \n",
      " 0   title         879 non-null    object \n",
      " 1   price         863 non-null    float64\n",
      " 2   graphicsCard  406 non-null    object \n",
      " 3   processor     834 non-null    object \n",
      " 4   screen        836 non-null    object \n",
      " 5   ram           834 non-null    float64\n",
      " 6   memmory       822 non-null    float64\n",
      "dtypes: float64(3), object(4)\n",
      "memory usage: 48.2+ KB\n"
     ]
    }
   ],
   "source": [
    "df.info()"
   ]
  },
  {
   "cell_type": "markdown",
   "id": "8d59fe37",
   "metadata": {},
   "source": [
    "### converting screen values to float objects"
   ]
  },
  {
   "cell_type": "code",
   "execution_count": 135,
   "id": "24fabb58",
   "metadata": {},
   "outputs": [
    {
     "data": {
      "text/plain": [
       "array([ 5.,  3., nan])"
      ]
     },
     "execution_count": 135,
     "metadata": {},
     "output_type": "execute_result"
    }
   ],
   "source": [
    "df['screen'].str.find('Inch').unique() "
   ]
  },
  {
   "cell_type": "code",
   "execution_count": 136,
   "id": "48a90e9b",
   "metadata": {},
   "outputs": [],
   "source": [
    "tmp = df['screen'].str.find('Inch') > 0 \n",
    "df.loc[tmp, 'screen'] =df.loc[tmp, 'screen'].str[:5]"
   ]
  },
  {
   "cell_type": "code",
   "execution_count": 137,
   "id": "a4d0bc3e",
   "metadata": {},
   "outputs": [
    {
     "data": {
      "text/plain": [
       "array(['15.6 ', '11.6 ', '12.5 ', '14 In', '13.5 ', '17.3 ', '14.1 ',\n",
       "       '13.3 ', None, '16 In', '12 In', '14.5 ', '13.4 ', '13 In',\n",
       "       '15 In', '12.3 ', '13.9 ', '11 In', '12.4 '], dtype=object)"
      ]
     },
     "execution_count": 137,
     "metadata": {},
     "output_type": "execute_result"
    }
   ],
   "source": [
    "df['screen'].unique()"
   ]
  },
  {
   "cell_type": "code",
   "execution_count": 139,
   "id": "c4a4ce39",
   "metadata": {},
   "outputs": [],
   "source": [
    "df['screen']=df['screen'].str.replace('In','')"
   ]
  },
  {
   "cell_type": "code",
   "execution_count": 140,
   "id": "105086a1",
   "metadata": {},
   "outputs": [],
   "source": [
    "df['screen']=df['screen'].str.strip()"
   ]
  },
  {
   "cell_type": "code",
   "execution_count": 141,
   "id": "2760499f",
   "metadata": {},
   "outputs": [
    {
     "data": {
      "text/plain": [
       "array(['15.6', '11.6', '12.5', '14', '13.5', '17.3', '14.1', '13.3', None,\n",
       "       '16', '12', '14.5', '13.4', '13', '15', '12.3', '13.9', '11',\n",
       "       '12.4'], dtype=object)"
      ]
     },
     "execution_count": 141,
     "metadata": {},
     "output_type": "execute_result"
    }
   ],
   "source": [
    "df['screen'].unique()"
   ]
  },
  {
   "cell_type": "code",
   "execution_count": 142,
   "id": "918f9216",
   "metadata": {},
   "outputs": [],
   "source": [
    "df['screen'] = df['screen'].astype('float')"
   ]
  },
  {
   "cell_type": "code",
   "execution_count": 143,
   "id": "e2ebda53",
   "metadata": {},
   "outputs": [
    {
     "name": "stdout",
     "output_type": "stream",
     "text": [
      "<class 'pandas.core.frame.DataFrame'>\n",
      "RangeIndex: 879 entries, 0 to 878\n",
      "Data columns (total 7 columns):\n",
      " #   Column        Non-Null Count  Dtype  \n",
      "---  ------        --------------  -----  \n",
      " 0   title         879 non-null    object \n",
      " 1   price         863 non-null    float64\n",
      " 2   graphicsCard  406 non-null    object \n",
      " 3   processor     834 non-null    object \n",
      " 4   screen        836 non-null    float64\n",
      " 5   ram           834 non-null    float64\n",
      " 6   memmory       822 non-null    float64\n",
      "dtypes: float64(4), object(3)\n",
      "memory usage: 48.2+ KB\n"
     ]
    }
   ],
   "source": [
    "df.info()"
   ]
  },
  {
   "cell_type": "code",
   "execution_count": 148,
   "id": "6c4b0a7b",
   "metadata": {},
   "outputs": [
    {
     "data": {
      "text/plain": [
       "148"
      ]
     },
     "execution_count": 148,
     "metadata": {},
     "output_type": "execute_result"
    }
   ],
   "source": [
    "df['processor'].unique().size"
   ]
  },
  {
   "cell_type": "code",
   "execution_count": 149,
   "id": "df1808ae",
   "metadata": {
    "scrolled": true
   },
   "outputs": [
    {
     "data": {
      "text/plain": [
       "47"
      ]
     },
     "execution_count": 149,
     "metadata": {},
     "output_type": "execute_result"
    }
   ],
   "source": [
    "df['graphicsCard'].unique().size"
   ]
  },
  {
   "cell_type": "markdown",
   "id": "5cf8f681",
   "metadata": {},
   "source": [
    "## Preparing data for model"
   ]
  },
  {
   "cell_type": "code",
   "execution_count": 153,
   "id": "20176504",
   "metadata": {},
   "outputs": [
    {
     "data": {
      "text/html": [
       "<div>\n",
       "<style scoped>\n",
       "    .dataframe tbody tr th:only-of-type {\n",
       "        vertical-align: middle;\n",
       "    }\n",
       "\n",
       "    .dataframe tbody tr th {\n",
       "        vertical-align: top;\n",
       "    }\n",
       "\n",
       "    .dataframe thead th {\n",
       "        text-align: right;\n",
       "    }\n",
       "</style>\n",
       "<table border=\"1\" class=\"dataframe\">\n",
       "  <thead>\n",
       "    <tr style=\"text-align: right;\">\n",
       "      <th></th>\n",
       "      <th>title</th>\n",
       "      <th>screen</th>\n",
       "      <th>ram</th>\n",
       "      <th>memmory</th>\n",
       "      <th>price</th>\n",
       "    </tr>\n",
       "  </thead>\n",
       "  <tbody>\n",
       "    <tr>\n",
       "      <th>0</th>\n",
       "      <td>Acer Aspire 5 Core i5-1035G1 8GB 512GB SSD 15....</td>\n",
       "      <td>15.6</td>\n",
       "      <td>8.0</td>\n",
       "      <td>512.0</td>\n",
       "      <td>579.97</td>\n",
       "    </tr>\n",
       "    <tr>\n",
       "      <th>1</th>\n",
       "      <td>Lenovo V15-IIL Core i5-1035G1 8GB 256GB SSD 15...</td>\n",
       "      <td>15.6</td>\n",
       "      <td>8.0</td>\n",
       "      <td>256.0</td>\n",
       "      <td>549.97</td>\n",
       "    </tr>\n",
       "    <tr>\n",
       "      <th>2</th>\n",
       "      <td>Refurbished Lenovo Yoga 11e Intel Celeron N294...</td>\n",
       "      <td>11.6</td>\n",
       "      <td>4.0</td>\n",
       "      <td>16.0</td>\n",
       "      <td>119.97</td>\n",
       "    </tr>\n",
       "    <tr>\n",
       "      <th>3</th>\n",
       "      <td>Asus C223NA Intel Celeron N3350 4GB 32GB eMMC ...</td>\n",
       "      <td>11.6</td>\n",
       "      <td>4.0</td>\n",
       "      <td>32.0</td>\n",
       "      <td>179.97</td>\n",
       "    </tr>\n",
       "    <tr>\n",
       "      <th>4</th>\n",
       "      <td>CODA 1.2 Intel Celeron N4020 4GB 64GB eMMC 12....</td>\n",
       "      <td>12.5</td>\n",
       "      <td>4.0</td>\n",
       "      <td>64.0</td>\n",
       "      <td>199.97</td>\n",
       "    </tr>\n",
       "    <tr>\n",
       "      <th>...</th>\n",
       "      <td>...</td>\n",
       "      <td>...</td>\n",
       "      <td>...</td>\n",
       "      <td>...</td>\n",
       "      <td>...</td>\n",
       "    </tr>\n",
       "    <tr>\n",
       "      <th>874</th>\n",
       "      <td>Refurbished HP Stream 11-Y0XX Intel Celeron N3...</td>\n",
       "      <td>NaN</td>\n",
       "      <td>NaN</td>\n",
       "      <td>NaN</td>\n",
       "      <td>89.97</td>\n",
       "    </tr>\n",
       "    <tr>\n",
       "      <th>875</th>\n",
       "      <td>Refurbished HP 14-BP1XX Core i5-8250U 8GB 128G...</td>\n",
       "      <td>NaN</td>\n",
       "      <td>NaN</td>\n",
       "      <td>NaN</td>\n",
       "      <td>279.97</td>\n",
       "    </tr>\n",
       "    <tr>\n",
       "      <th>876</th>\n",
       "      <td>Refurbished Lenovo IdeaPad 320-15IAP Intel Pen...</td>\n",
       "      <td>NaN</td>\n",
       "      <td>NaN</td>\n",
       "      <td>NaN</td>\n",
       "      <td>159.97</td>\n",
       "    </tr>\n",
       "    <tr>\n",
       "      <th>877</th>\n",
       "      <td>Refurbished HP Notebook Intel Pentium N3710 8G...</td>\n",
       "      <td>NaN</td>\n",
       "      <td>NaN</td>\n",
       "      <td>NaN</td>\n",
       "      <td>179.97</td>\n",
       "    </tr>\n",
       "    <tr>\n",
       "      <th>878</th>\n",
       "      <td>Refurbished Acer Aspire A114-31 Intel Celeron ...</td>\n",
       "      <td>NaN</td>\n",
       "      <td>NaN</td>\n",
       "      <td>NaN</td>\n",
       "      <td>119.97</td>\n",
       "    </tr>\n",
       "  </tbody>\n",
       "</table>\n",
       "<p>879 rows × 5 columns</p>\n",
       "</div>"
      ],
      "text/plain": [
       "                                                 title  screen  ram  memmory  \\\n",
       "0    Acer Aspire 5 Core i5-1035G1 8GB 512GB SSD 15....    15.6  8.0    512.0   \n",
       "1    Lenovo V15-IIL Core i5-1035G1 8GB 256GB SSD 15...    15.6  8.0    256.0   \n",
       "2    Refurbished Lenovo Yoga 11e Intel Celeron N294...    11.6  4.0     16.0   \n",
       "3    Asus C223NA Intel Celeron N3350 4GB 32GB eMMC ...    11.6  4.0     32.0   \n",
       "4    CODA 1.2 Intel Celeron N4020 4GB 64GB eMMC 12....    12.5  4.0     64.0   \n",
       "..                                                 ...     ...  ...      ...   \n",
       "874  Refurbished HP Stream 11-Y0XX Intel Celeron N3...     NaN  NaN      NaN   \n",
       "875  Refurbished HP 14-BP1XX Core i5-8250U 8GB 128G...     NaN  NaN      NaN   \n",
       "876  Refurbished Lenovo IdeaPad 320-15IAP Intel Pen...     NaN  NaN      NaN   \n",
       "877  Refurbished HP Notebook Intel Pentium N3710 8G...     NaN  NaN      NaN   \n",
       "878  Refurbished Acer Aspire A114-31 Intel Celeron ...     NaN  NaN      NaN   \n",
       "\n",
       "      price  \n",
       "0    579.97  \n",
       "1    549.97  \n",
       "2    119.97  \n",
       "3    179.97  \n",
       "4    199.97  \n",
       "..      ...  \n",
       "874   89.97  \n",
       "875  279.97  \n",
       "876  159.97  \n",
       "877  179.97  \n",
       "878  119.97  \n",
       "\n",
       "[879 rows x 5 columns]"
      ]
     },
     "execution_count": 153,
     "metadata": {},
     "output_type": "execute_result"
    }
   ],
   "source": [
    "final_data_frame = df[['title','screen','ram','memmory','price']]\n",
    "final_data_frame"
   ]
  },
  {
   "cell_type": "code",
   "execution_count": 157,
   "id": "7194156e",
   "metadata": {},
   "outputs": [
    {
     "data": {
      "text/plain": [
       "title       0\n",
       "screen     43\n",
       "ram        45\n",
       "memmory    57\n",
       "price      16\n",
       "dtype: int64"
      ]
     },
     "execution_count": 157,
     "metadata": {},
     "output_type": "execute_result"
    }
   ],
   "source": [
    "final_data_frame.isnull().sum()"
   ]
  },
  {
   "cell_type": "code",
   "execution_count": 162,
   "id": "c158f0f9",
   "metadata": {},
   "outputs": [],
   "source": [
    "test_data = final_data_frame[ final_data_frame['price'].isnull()]"
   ]
  },
  {
   "cell_type": "code",
   "execution_count": 164,
   "id": "e8906d70",
   "metadata": {},
   "outputs": [
    {
     "name": "stderr",
     "output_type": "stream",
     "text": [
      "c:\\users\\amira\\appdata\\local\\programs\\python\\python39\\lib\\site-packages\\pandas\\util\\_decorators.py:311: SettingWithCopyWarning: \n",
      "A value is trying to be set on a copy of a slice from a DataFrame\n",
      "\n",
      "See the caveats in the documentation: https://pandas.pydata.org/pandas-docs/stable/user_guide/indexing.html#returning-a-view-versus-a-copy\n",
      "  return func(*args, **kwargs)\n"
     ]
    }
   ],
   "source": [
    "final_data_frame.dropna(inplace=True)"
   ]
  },
  {
   "cell_type": "code",
   "execution_count": 167,
   "id": "23be1bfe",
   "metadata": {},
   "outputs": [
    {
     "data": {
      "text/plain": [
       "title      0\n",
       "screen     0\n",
       "ram        0\n",
       "memmory    0\n",
       "price      0\n",
       "dtype: int64"
      ]
     },
     "execution_count": 167,
     "metadata": {},
     "output_type": "execute_result"
    }
   ],
   "source": [
    "final_data_frame.isnull().sum()"
   ]
  },
  {
   "cell_type": "code",
   "execution_count": 168,
   "id": "cbe3917b",
   "metadata": {},
   "outputs": [
    {
     "data": {
      "text/html": [
       "<div>\n",
       "<style scoped>\n",
       "    .dataframe tbody tr th:only-of-type {\n",
       "        vertical-align: middle;\n",
       "    }\n",
       "\n",
       "    .dataframe tbody tr th {\n",
       "        vertical-align: top;\n",
       "    }\n",
       "\n",
       "    .dataframe thead th {\n",
       "        text-align: right;\n",
       "    }\n",
       "</style>\n",
       "<table border=\"1\" class=\"dataframe\">\n",
       "  <thead>\n",
       "    <tr style=\"text-align: right;\">\n",
       "      <th></th>\n",
       "      <th>title</th>\n",
       "      <th>screen</th>\n",
       "      <th>ram</th>\n",
       "      <th>memmory</th>\n",
       "      <th>price</th>\n",
       "    </tr>\n",
       "  </thead>\n",
       "  <tbody>\n",
       "    <tr>\n",
       "      <th>0</th>\n",
       "      <td>Acer Aspire 5 Core i5-1035G1 8GB 512GB SSD 15....</td>\n",
       "      <td>15.6</td>\n",
       "      <td>8.0</td>\n",
       "      <td>512.0</td>\n",
       "      <td>579.97</td>\n",
       "    </tr>\n",
       "    <tr>\n",
       "      <th>1</th>\n",
       "      <td>Lenovo V15-IIL Core i5-1035G1 8GB 256GB SSD 15...</td>\n",
       "      <td>15.6</td>\n",
       "      <td>8.0</td>\n",
       "      <td>256.0</td>\n",
       "      <td>549.97</td>\n",
       "    </tr>\n",
       "    <tr>\n",
       "      <th>2</th>\n",
       "      <td>Refurbished Lenovo Yoga 11e Intel Celeron N294...</td>\n",
       "      <td>11.6</td>\n",
       "      <td>4.0</td>\n",
       "      <td>16.0</td>\n",
       "      <td>119.97</td>\n",
       "    </tr>\n",
       "    <tr>\n",
       "      <th>3</th>\n",
       "      <td>Asus C223NA Intel Celeron N3350 4GB 32GB eMMC ...</td>\n",
       "      <td>11.6</td>\n",
       "      <td>4.0</td>\n",
       "      <td>32.0</td>\n",
       "      <td>179.97</td>\n",
       "    </tr>\n",
       "    <tr>\n",
       "      <th>4</th>\n",
       "      <td>CODA 1.2 Intel Celeron N4020 4GB 64GB eMMC 12....</td>\n",
       "      <td>12.5</td>\n",
       "      <td>4.0</td>\n",
       "      <td>64.0</td>\n",
       "      <td>199.97</td>\n",
       "    </tr>\n",
       "  </tbody>\n",
       "</table>\n",
       "</div>"
      ],
      "text/plain": [
       "                                               title  screen  ram  memmory  \\\n",
       "0  Acer Aspire 5 Core i5-1035G1 8GB 512GB SSD 15....    15.6  8.0    512.0   \n",
       "1  Lenovo V15-IIL Core i5-1035G1 8GB 256GB SSD 15...    15.6  8.0    256.0   \n",
       "2  Refurbished Lenovo Yoga 11e Intel Celeron N294...    11.6  4.0     16.0   \n",
       "3  Asus C223NA Intel Celeron N3350 4GB 32GB eMMC ...    11.6  4.0     32.0   \n",
       "4  CODA 1.2 Intel Celeron N4020 4GB 64GB eMMC 12....    12.5  4.0     64.0   \n",
       "\n",
       "    price  \n",
       "0  579.97  \n",
       "1  549.97  \n",
       "2  119.97  \n",
       "3  179.97  \n",
       "4  199.97  "
      ]
     },
     "execution_count": 168,
     "metadata": {},
     "output_type": "execute_result"
    }
   ],
   "source": [
    "final_data_frame.head(5)"
   ]
  },
  {
   "cell_type": "code",
   "execution_count": 169,
   "id": "9979eed1",
   "metadata": {},
   "outputs": [
    {
     "data": {
      "text/html": [
       "<div>\n",
       "<style scoped>\n",
       "    .dataframe tbody tr th:only-of-type {\n",
       "        vertical-align: middle;\n",
       "    }\n",
       "\n",
       "    .dataframe tbody tr th {\n",
       "        vertical-align: top;\n",
       "    }\n",
       "\n",
       "    .dataframe thead th {\n",
       "        text-align: right;\n",
       "    }\n",
       "</style>\n",
       "<table border=\"1\" class=\"dataframe\">\n",
       "  <thead>\n",
       "    <tr style=\"text-align: right;\">\n",
       "      <th></th>\n",
       "      <th>screen</th>\n",
       "      <th>ram</th>\n",
       "      <th>memmory</th>\n",
       "      <th>price</th>\n",
       "    </tr>\n",
       "  </thead>\n",
       "  <tbody>\n",
       "    <tr>\n",
       "      <th>screen</th>\n",
       "      <td>1.000000</td>\n",
       "      <td>0.452304</td>\n",
       "      <td>0.390148</td>\n",
       "      <td>0.456002</td>\n",
       "    </tr>\n",
       "    <tr>\n",
       "      <th>ram</th>\n",
       "      <td>0.452304</td>\n",
       "      <td>1.000000</td>\n",
       "      <td>0.684913</td>\n",
       "      <td>0.835827</td>\n",
       "    </tr>\n",
       "    <tr>\n",
       "      <th>memmory</th>\n",
       "      <td>0.390148</td>\n",
       "      <td>0.684913</td>\n",
       "      <td>1.000000</td>\n",
       "      <td>0.586791</td>\n",
       "    </tr>\n",
       "    <tr>\n",
       "      <th>price</th>\n",
       "      <td>0.456002</td>\n",
       "      <td>0.835827</td>\n",
       "      <td>0.586791</td>\n",
       "      <td>1.000000</td>\n",
       "    </tr>\n",
       "  </tbody>\n",
       "</table>\n",
       "</div>"
      ],
      "text/plain": [
       "           screen       ram   memmory     price\n",
       "screen   1.000000  0.452304  0.390148  0.456002\n",
       "ram      0.452304  1.000000  0.684913  0.835827\n",
       "memmory  0.390148  0.684913  1.000000  0.586791\n",
       "price    0.456002  0.835827  0.586791  1.000000"
      ]
     },
     "execution_count": 169,
     "metadata": {},
     "output_type": "execute_result"
    }
   ],
   "source": [
    "final_data_frame.corr()"
   ]
  },
  {
   "cell_type": "code",
   "execution_count": 171,
   "id": "d759950e",
   "metadata": {},
   "outputs": [],
   "source": [
    "from sklearn import linear_model"
   ]
  },
  {
   "cell_type": "markdown",
   "id": "a7ab5843",
   "metadata": {},
   "source": [
    "## Designing linear regression model"
   ]
  },
  {
   "cell_type": "code",
   "execution_count": 176,
   "id": "59b586bd",
   "metadata": {},
   "outputs": [],
   "source": [
    "x = final_data_frame[['screen', 'ram', 'memmory']]\n",
    "y = final_data_frame['price']"
   ]
  },
  {
   "cell_type": "code",
   "execution_count": 178,
   "id": "3330b7fc",
   "metadata": {},
   "outputs": [],
   "source": [
    "reg = linear_model.LinearRegression()\n",
    "reg = reg.fit(x,y)"
   ]
  },
  {
   "cell_type": "code",
   "execution_count": 181,
   "id": "6951ec25",
   "metadata": {},
   "outputs": [
    {
     "data": {
      "text/plain": [
       "array([1400.71354276,  669.0484279 ])"
      ]
     },
     "execution_count": 181,
     "metadata": {},
     "output_type": "execute_result"
    }
   ],
   "source": [
    "predict = reg.predict([[15.6, 16, 64], [14, 8, 32]])\n",
    "predict"
   ]
  },
  {
   "cell_type": "markdown",
   "id": "c791c981",
   "metadata": {},
   "source": [
    "### Predicting price of laptops with missing price value"
   ]
  },
  {
   "cell_type": "code",
   "execution_count": 184,
   "id": "71a4d3a0",
   "metadata": {},
   "outputs": [
    {
     "name": "stderr",
     "output_type": "stream",
     "text": [
      "C:\\Users\\amira\\AppData\\Local\\Temp/ipykernel_12236/2155833598.py:2: SettingWithCopyWarning: \n",
      "A value is trying to be set on a copy of a slice from a DataFrame.\n",
      "Try using .loc[row_indexer,col_indexer] = value instead\n",
      "\n",
      "See the caveats in the documentation: https://pandas.pydata.org/pandas-docs/stable/user_guide/indexing.html#returning-a-view-versus-a-copy\n",
      "  test_data['predicted_price'] = reg.predict(x)\n"
     ]
    },
    {
     "data": {
      "text/html": [
       "<div>\n",
       "<style scoped>\n",
       "    .dataframe tbody tr th:only-of-type {\n",
       "        vertical-align: middle;\n",
       "    }\n",
       "\n",
       "    .dataframe tbody tr th {\n",
       "        vertical-align: top;\n",
       "    }\n",
       "\n",
       "    .dataframe thead th {\n",
       "        text-align: right;\n",
       "    }\n",
       "</style>\n",
       "<table border=\"1\" class=\"dataframe\">\n",
       "  <thead>\n",
       "    <tr style=\"text-align: right;\">\n",
       "      <th></th>\n",
       "      <th>title</th>\n",
       "      <th>screen</th>\n",
       "      <th>ram</th>\n",
       "      <th>memmory</th>\n",
       "      <th>price</th>\n",
       "      <th>predicted_price</th>\n",
       "    </tr>\n",
       "  </thead>\n",
       "  <tbody>\n",
       "    <tr>\n",
       "      <th>263</th>\n",
       "      <td>Acer Travel Mate B3 Intel Celeron  N4020 4GB 6...</td>\n",
       "      <td>11.6</td>\n",
       "      <td>4.0</td>\n",
       "      <td>64.0</td>\n",
       "      <td>NaN</td>\n",
       "      <td>238.616332</td>\n",
       "    </tr>\n",
       "    <tr>\n",
       "      <th>275</th>\n",
       "      <td>Toshiba Dynabook Satellite Pro C40-H-105 Core ...</td>\n",
       "      <td>14.0</td>\n",
       "      <td>8.0</td>\n",
       "      <td>256.0</td>\n",
       "      <td>NaN</td>\n",
       "      <td>674.832724</td>\n",
       "    </tr>\n",
       "    <tr>\n",
       "      <th>290</th>\n",
       "      <td>Acer Travel Mate Spin B3 Intel Pentium N5030 4...</td>\n",
       "      <td>11.6</td>\n",
       "      <td>4.0</td>\n",
       "      <td>128.0</td>\n",
       "      <td>NaN</td>\n",
       "      <td>240.268988</td>\n",
       "    </tr>\n",
       "    <tr>\n",
       "      <th>370</th>\n",
       "      <td>Toshiba Dynabook Satellite Pro C40-G-111 Core ...</td>\n",
       "      <td>14.0</td>\n",
       "      <td>8.0</td>\n",
       "      <td>256.0</td>\n",
       "      <td>NaN</td>\n",
       "      <td>674.832724</td>\n",
       "    </tr>\n",
       "    <tr>\n",
       "      <th>418</th>\n",
       "      <td>Toshiba Dynabook Satellite Pro C40-H-111 Core ...</td>\n",
       "      <td>14.0</td>\n",
       "      <td>8.0</td>\n",
       "      <td>256.0</td>\n",
       "      <td>NaN</td>\n",
       "      <td>674.832724</td>\n",
       "    </tr>\n",
       "    <tr>\n",
       "      <th>419</th>\n",
       "      <td>Toshiba Dynabook Satellite Pro C40-G-10Y Core ...</td>\n",
       "      <td>14.0</td>\n",
       "      <td>8.0</td>\n",
       "      <td>256.0</td>\n",
       "      <td>NaN</td>\n",
       "      <td>674.832724</td>\n",
       "    </tr>\n",
       "    <tr>\n",
       "      <th>420</th>\n",
       "      <td>Toshiba Dynabook Satellite Pro C40-G-11E Core ...</td>\n",
       "      <td>14.0</td>\n",
       "      <td>8.0</td>\n",
       "      <td>256.0</td>\n",
       "      <td>NaN</td>\n",
       "      <td>674.832724</td>\n",
       "    </tr>\n",
       "    <tr>\n",
       "      <th>422</th>\n",
       "      <td>Toshiba Dynabook Satellite Pro C40-G-10Z Core ...</td>\n",
       "      <td>14.0</td>\n",
       "      <td>8.0</td>\n",
       "      <td>256.0</td>\n",
       "      <td>NaN</td>\n",
       "      <td>674.832724</td>\n",
       "    </tr>\n",
       "    <tr>\n",
       "      <th>525</th>\n",
       "      <td>Toshiba Dynabook Satellite Pro L50-G-13F Core ...</td>\n",
       "      <td>15.6</td>\n",
       "      <td>8.0</td>\n",
       "      <td>256.0</td>\n",
       "      <td>NaN</td>\n",
       "      <td>740.671754</td>\n",
       "    </tr>\n",
       "    <tr>\n",
       "      <th>575</th>\n",
       "      <td>Toshiba Dynabook Tecra A40-G-10G Core i7-10510...</td>\n",
       "      <td>14.0</td>\n",
       "      <td>8.0</td>\n",
       "      <td>256.0</td>\n",
       "      <td>NaN</td>\n",
       "      <td>674.832724</td>\n",
       "    </tr>\n",
       "    <tr>\n",
       "      <th>581</th>\n",
       "      <td>Toshiba Dynabook Satellite Pro L40-G-102 Core ...</td>\n",
       "      <td>14.0</td>\n",
       "      <td>8.0</td>\n",
       "      <td>256.0</td>\n",
       "      <td>NaN</td>\n",
       "      <td>674.832724</td>\n",
       "    </tr>\n",
       "    <tr>\n",
       "      <th>672</th>\n",
       "      <td>ACER Travel Mate P2 Core i3-1115G4 8GB 256GB S...</td>\n",
       "      <td>15.6</td>\n",
       "      <td>8.0</td>\n",
       "      <td>256.0</td>\n",
       "      <td>NaN</td>\n",
       "      <td>740.671754</td>\n",
       "    </tr>\n",
       "    <tr>\n",
       "      <th>687</th>\n",
       "      <td>Toshiba Dynabook Satellite Pro C40-H-101 Core ...</td>\n",
       "      <td>14.0</td>\n",
       "      <td>8.0</td>\n",
       "      <td>256.0</td>\n",
       "      <td>NaN</td>\n",
       "      <td>674.832724</td>\n",
       "    </tr>\n",
       "    <tr>\n",
       "      <th>692</th>\n",
       "      <td>Toshiba Dynabook Portege X30W-J-109 Core i5-11...</td>\n",
       "      <td>13.3</td>\n",
       "      <td>8.0</td>\n",
       "      <td>256.0</td>\n",
       "      <td>NaN</td>\n",
       "      <td>646.028148</td>\n",
       "    </tr>\n",
       "    <tr>\n",
       "      <th>722</th>\n",
       "      <td>Toshiba Dynabook Satellite Pro L50-J-109 Core ...</td>\n",
       "      <td>15.6</td>\n",
       "      <td>8.0</td>\n",
       "      <td>256.0</td>\n",
       "      <td>NaN</td>\n",
       "      <td>740.671754</td>\n",
       "    </tr>\n",
       "    <tr>\n",
       "      <th>727</th>\n",
       "      <td>Toshiba Dynabook Portege X30W-J-11H Core i5-11...</td>\n",
       "      <td>13.3</td>\n",
       "      <td>16.0</td>\n",
       "      <td>256.0</td>\n",
       "      <td>NaN</td>\n",
       "      <td>1311.027905</td>\n",
       "    </tr>\n",
       "  </tbody>\n",
       "</table>\n",
       "</div>"
      ],
      "text/plain": [
       "                                                 title  screen   ram  memmory  \\\n",
       "263  Acer Travel Mate B3 Intel Celeron  N4020 4GB 6...    11.6   4.0     64.0   \n",
       "275  Toshiba Dynabook Satellite Pro C40-H-105 Core ...    14.0   8.0    256.0   \n",
       "290  Acer Travel Mate Spin B3 Intel Pentium N5030 4...    11.6   4.0    128.0   \n",
       "370  Toshiba Dynabook Satellite Pro C40-G-111 Core ...    14.0   8.0    256.0   \n",
       "418  Toshiba Dynabook Satellite Pro C40-H-111 Core ...    14.0   8.0    256.0   \n",
       "419  Toshiba Dynabook Satellite Pro C40-G-10Y Core ...    14.0   8.0    256.0   \n",
       "420  Toshiba Dynabook Satellite Pro C40-G-11E Core ...    14.0   8.0    256.0   \n",
       "422  Toshiba Dynabook Satellite Pro C40-G-10Z Core ...    14.0   8.0    256.0   \n",
       "525  Toshiba Dynabook Satellite Pro L50-G-13F Core ...    15.6   8.0    256.0   \n",
       "575  Toshiba Dynabook Tecra A40-G-10G Core i7-10510...    14.0   8.0    256.0   \n",
       "581  Toshiba Dynabook Satellite Pro L40-G-102 Core ...    14.0   8.0    256.0   \n",
       "672  ACER Travel Mate P2 Core i3-1115G4 8GB 256GB S...    15.6   8.0    256.0   \n",
       "687  Toshiba Dynabook Satellite Pro C40-H-101 Core ...    14.0   8.0    256.0   \n",
       "692  Toshiba Dynabook Portege X30W-J-109 Core i5-11...    13.3   8.0    256.0   \n",
       "722  Toshiba Dynabook Satellite Pro L50-J-109 Core ...    15.6   8.0    256.0   \n",
       "727  Toshiba Dynabook Portege X30W-J-11H Core i5-11...    13.3  16.0    256.0   \n",
       "\n",
       "     price  predicted_price  \n",
       "263    NaN       238.616332  \n",
       "275    NaN       674.832724  \n",
       "290    NaN       240.268988  \n",
       "370    NaN       674.832724  \n",
       "418    NaN       674.832724  \n",
       "419    NaN       674.832724  \n",
       "420    NaN       674.832724  \n",
       "422    NaN       674.832724  \n",
       "525    NaN       740.671754  \n",
       "575    NaN       674.832724  \n",
       "581    NaN       674.832724  \n",
       "672    NaN       740.671754  \n",
       "687    NaN       674.832724  \n",
       "692    NaN       646.028148  \n",
       "722    NaN       740.671754  \n",
       "727    NaN      1311.027905  "
      ]
     },
     "execution_count": 184,
     "metadata": {},
     "output_type": "execute_result"
    }
   ],
   "source": [
    "x = test_data[['screen', 'ram', 'memmory']]\n",
    "test_data['predicted_price'] = reg.predict(x)\n",
    "test_data"
   ]
  },
  {
   "cell_type": "code",
   "execution_count": 187,
   "id": "28e5266e",
   "metadata": {},
   "outputs": [
    {
     "name": "stdout",
     "output_type": "stream",
     "text": [
      "My AI model predict 1346.4431049470552 euros for my laptop while the real price is 1400 Euros.\n"
     ]
    }
   ],
   "source": [
    "my_laptop_info = [14, 16, 512]\n",
    "predict = reg.predict([my_laptop_info])\n",
    "print(\"My AI model predict\",predict[0], \"euros for my laptop while the real price is 1400 Euros.\")"
   ]
  },
  {
   "cell_type": "markdown",
   "id": "6069fcab",
   "metadata": {},
   "source": [
    "## Collecting data for testing the model"
   ]
  },
  {
   "cell_type": "code",
   "execution_count": 237,
   "id": "480432c9",
   "metadata": {},
   "outputs": [],
   "source": [
    "tst_df = pd.read_csv('laptops_data.csv')"
   ]
  },
  {
   "cell_type": "code",
   "execution_count": 221,
   "id": "5597a069",
   "metadata": {},
   "outputs": [
    {
     "data": {
      "text/html": [
       "<div>\n",
       "<style scoped>\n",
       "    .dataframe tbody tr th:only-of-type {\n",
       "        vertical-align: middle;\n",
       "    }\n",
       "\n",
       "    .dataframe tbody tr th {\n",
       "        vertical-align: top;\n",
       "    }\n",
       "\n",
       "    .dataframe thead th {\n",
       "        text-align: right;\n",
       "    }\n",
       "</style>\n",
       "<table border=\"1\" class=\"dataframe\">\n",
       "  <thead>\n",
       "    <tr style=\"text-align: right;\">\n",
       "      <th></th>\n",
       "      <th>title</th>\n",
       "      <th>Main specs Display diagonal</th>\n",
       "      <th>Main specs Processor</th>\n",
       "      <th>Main specs Internal memory</th>\n",
       "      <th>Main specs Graphics</th>\n",
       "      <th>Main specs Storage</th>\n",
       "      <th>Price</th>\n",
       "    </tr>\n",
       "  </thead>\n",
       "  <tbody>\n",
       "    <tr>\n",
       "      <th>0</th>\n",
       "      <td>Alienware 15 R3</td>\n",
       "      <td>Display diagonal: 15.6 inch</td>\n",
       "      <td>Processor: i7-7700HQ 2.8 GHz</td>\n",
       "      <td>Internal memory: 16 GB DDR4-SDRAM</td>\n",
       "      <td>Graphics: NVIDIA GeForce GTX 1060</td>\n",
       "      <td>Storage: 1256 GB HDD+SSD</td>\n",
       "      <td>About 2293 USD</td>\n",
       "    </tr>\n",
       "    <tr>\n",
       "      <th>1</th>\n",
       "      <td>Alienware 15 R3</td>\n",
       "      <td>Display diagonal: 15.6 inch</td>\n",
       "      <td>Processor: i5-7300HQ 2.5 GHz</td>\n",
       "      <td>Internal memory: 8 GB DDR4-SDRAM</td>\n",
       "      <td>Graphics: NVIDIA GeForce GTX 1060</td>\n",
       "      <td>Storage: 1000 GB HDD</td>\n",
       "      <td>About 1613 USD</td>\n",
       "    </tr>\n",
       "    <tr>\n",
       "      <th>2</th>\n",
       "      <td>Alienware 17 R4</td>\n",
       "      <td>Display diagonal: 17.3 inch</td>\n",
       "      <td>Processor: i7-7700HQ 2.8 GHz</td>\n",
       "      <td>Internal memory: 16 GB DDR4-SDRAM</td>\n",
       "      <td>Graphics: NVIDIA GeForce GTX 1070</td>\n",
       "      <td>Storage: 1256 GB HDD+SSD</td>\n",
       "      <td>About 2001 USD</td>\n",
       "    </tr>\n",
       "    <tr>\n",
       "      <th>3</th>\n",
       "      <td>DELL G3 3779</td>\n",
       "      <td>Display diagonal: 17.3 inch</td>\n",
       "      <td>Processor: i7-8750H 2.20 GHz</td>\n",
       "      <td>Internal memory: 16 GB DDR4-SDRAM</td>\n",
       "      <td>Graphics: NVIDIA GeForce GTX 1060</td>\n",
       "      <td>Storage: 2256 GB HDD+SSD</td>\n",
       "      <td>NaN</td>\n",
       "    </tr>\n",
       "    <tr>\n",
       "      <th>4</th>\n",
       "      <td>DELL G5 5590</td>\n",
       "      <td>Display diagonal: 15.6 inch</td>\n",
       "      <td>Processor: i5-8300H 2.30 GHz</td>\n",
       "      <td>Internal memory: 8 GB DDR4-SDRAM</td>\n",
       "      <td>Graphics: NVIDIA GeForce GTX 1050 Ti</td>\n",
       "      <td>Storage: 1128 GB HDD+SSD</td>\n",
       "      <td>NaN</td>\n",
       "    </tr>\n",
       "  </tbody>\n",
       "</table>\n",
       "</div>"
      ],
      "text/plain": [
       "             title  Main specs Display diagonal          Main specs Processor  \\\n",
       "0  Alienware 15 R3  Display diagonal: 15.6 inch  Processor: i7-7700HQ 2.8 GHz   \n",
       "1  Alienware 15 R3  Display diagonal: 15.6 inch  Processor: i5-7300HQ 2.5 GHz   \n",
       "2  Alienware 17 R4  Display diagonal: 17.3 inch  Processor: i7-7700HQ 2.8 GHz   \n",
       "3     DELL G3 3779  Display diagonal: 17.3 inch  Processor: i7-8750H 2.20 GHz   \n",
       "4     DELL G5 5590  Display diagonal: 15.6 inch  Processor: i5-8300H 2.30 GHz   \n",
       "\n",
       "          Main specs Internal memory                   Main specs Graphics  \\\n",
       "0  Internal memory: 16 GB DDR4-SDRAM     Graphics: NVIDIA GeForce GTX 1060   \n",
       "1   Internal memory: 8 GB DDR4-SDRAM     Graphics: NVIDIA GeForce GTX 1060   \n",
       "2  Internal memory: 16 GB DDR4-SDRAM     Graphics: NVIDIA GeForce GTX 1070   \n",
       "3  Internal memory: 16 GB DDR4-SDRAM     Graphics: NVIDIA GeForce GTX 1060   \n",
       "4   Internal memory: 8 GB DDR4-SDRAM  Graphics: NVIDIA GeForce GTX 1050 Ti   \n",
       "\n",
       "         Main specs Storage            Price  \n",
       "0  Storage: 1256 GB HDD+SSD  About 2293 USD   \n",
       "1      Storage: 1000 GB HDD  About 1613 USD   \n",
       "2  Storage: 1256 GB HDD+SSD  About 2001 USD   \n",
       "3  Storage: 2256 GB HDD+SSD              NaN  \n",
       "4  Storage: 1128 GB HDD+SSD              NaN  "
      ]
     },
     "execution_count": 221,
     "metadata": {},
     "output_type": "execute_result"
    }
   ],
   "source": [
    "tst_df.head()"
   ]
  },
  {
   "cell_type": "code",
   "execution_count": 238,
   "id": "1afee221",
   "metadata": {},
   "outputs": [
    {
     "data": {
      "text/html": [
       "<div>\n",
       "<style scoped>\n",
       "    .dataframe tbody tr th:only-of-type {\n",
       "        vertical-align: middle;\n",
       "    }\n",
       "\n",
       "    .dataframe tbody tr th {\n",
       "        vertical-align: top;\n",
       "    }\n",
       "\n",
       "    .dataframe thead th {\n",
       "        text-align: right;\n",
       "    }\n",
       "</style>\n",
       "<table border=\"1\" class=\"dataframe\">\n",
       "  <thead>\n",
       "    <tr style=\"text-align: right;\">\n",
       "      <th></th>\n",
       "      <th>title</th>\n",
       "      <th>Main specs Display diagonal</th>\n",
       "      <th>Main specs Processor</th>\n",
       "      <th>Main specs Internal memory</th>\n",
       "      <th>Main specs Graphics</th>\n",
       "      <th>Main specs Storage</th>\n",
       "      <th>Price</th>\n",
       "    </tr>\n",
       "  </thead>\n",
       "  <tbody>\n",
       "    <tr>\n",
       "      <th>0</th>\n",
       "      <td>Alienware 15 R3</td>\n",
       "      <td>Display diagonal: 15.6 inch</td>\n",
       "      <td>Processor: i7-7700HQ 2.8 GHz</td>\n",
       "      <td>Internal memory: 16 GB DDR4-SDRAM</td>\n",
       "      <td>Graphics: NVIDIA GeForce GTX 1060</td>\n",
       "      <td>Storage: 1256 GB HDD+SSD</td>\n",
       "      <td>About 2293 USD</td>\n",
       "    </tr>\n",
       "    <tr>\n",
       "      <th>1</th>\n",
       "      <td>Alienware 15 R3</td>\n",
       "      <td>Display diagonal: 15.6 inch</td>\n",
       "      <td>Processor: i5-7300HQ 2.5 GHz</td>\n",
       "      <td>Internal memory: 8 GB DDR4-SDRAM</td>\n",
       "      <td>Graphics: NVIDIA GeForce GTX 1060</td>\n",
       "      <td>Storage: 1000 GB HDD</td>\n",
       "      <td>About 1613 USD</td>\n",
       "    </tr>\n",
       "    <tr>\n",
       "      <th>2</th>\n",
       "      <td>Alienware 17 R4</td>\n",
       "      <td>Display diagonal: 17.3 inch</td>\n",
       "      <td>Processor: i7-7700HQ 2.8 GHz</td>\n",
       "      <td>Internal memory: 16 GB DDR4-SDRAM</td>\n",
       "      <td>Graphics: NVIDIA GeForce GTX 1070</td>\n",
       "      <td>Storage: 1256 GB HDD+SSD</td>\n",
       "      <td>About 2001 USD</td>\n",
       "    </tr>\n",
       "    <tr>\n",
       "      <th>6</th>\n",
       "      <td>DELL Inspiron 5770</td>\n",
       "      <td>Display diagonal: 17.3 inch</td>\n",
       "      <td>Processor: i5-8250U 1.60 GHz</td>\n",
       "      <td>Internal memory: 8 GB DDR4-SDRAM</td>\n",
       "      <td>Graphics: AMD Radeon 530</td>\n",
       "      <td>Storage: 1128 GB HDD+SSD</td>\n",
       "      <td>About 940 USD</td>\n",
       "    </tr>\n",
       "    <tr>\n",
       "      <th>10</th>\n",
       "      <td>DELL XPS 9560</td>\n",
       "      <td>Display diagonal: 15.6 inch</td>\n",
       "      <td>Processor: i5-7300HQ 2.5 GHz</td>\n",
       "      <td>Internal memory: 8 GB DDR4-SDRAM</td>\n",
       "      <td>Graphics: NVIDIA GeForce GTX 1050</td>\n",
       "      <td>Storage: 1128 GB HDD+SSD</td>\n",
       "      <td>About 1527 USD</td>\n",
       "    </tr>\n",
       "  </tbody>\n",
       "</table>\n",
       "</div>"
      ],
      "text/plain": [
       "                 title  Main specs Display diagonal  \\\n",
       "0      Alienware 15 R3  Display diagonal: 15.6 inch   \n",
       "1      Alienware 15 R3  Display diagonal: 15.6 inch   \n",
       "2      Alienware 17 R4  Display diagonal: 17.3 inch   \n",
       "6   DELL Inspiron 5770  Display diagonal: 17.3 inch   \n",
       "10       DELL XPS 9560  Display diagonal: 15.6 inch   \n",
       "\n",
       "            Main specs Processor         Main specs Internal memory  \\\n",
       "0   Processor: i7-7700HQ 2.8 GHz  Internal memory: 16 GB DDR4-SDRAM   \n",
       "1   Processor: i5-7300HQ 2.5 GHz   Internal memory: 8 GB DDR4-SDRAM   \n",
       "2   Processor: i7-7700HQ 2.8 GHz  Internal memory: 16 GB DDR4-SDRAM   \n",
       "6   Processor: i5-8250U 1.60 GHz   Internal memory: 8 GB DDR4-SDRAM   \n",
       "10  Processor: i5-7300HQ 2.5 GHz   Internal memory: 8 GB DDR4-SDRAM   \n",
       "\n",
       "                  Main specs Graphics        Main specs Storage  \\\n",
       "0   Graphics: NVIDIA GeForce GTX 1060  Storage: 1256 GB HDD+SSD   \n",
       "1   Graphics: NVIDIA GeForce GTX 1060      Storage: 1000 GB HDD   \n",
       "2   Graphics: NVIDIA GeForce GTX 1070  Storage: 1256 GB HDD+SSD   \n",
       "6            Graphics: AMD Radeon 530  Storage: 1128 GB HDD+SSD   \n",
       "10  Graphics: NVIDIA GeForce GTX 1050  Storage: 1128 GB HDD+SSD   \n",
       "\n",
       "              Price  \n",
       "0   About 2293 USD   \n",
       "1   About 1613 USD   \n",
       "2   About 2001 USD   \n",
       "6    About 940 USD   \n",
       "10  About 1527 USD   "
      ]
     },
     "execution_count": 238,
     "metadata": {},
     "output_type": "execute_result"
    }
   ],
   "source": [
    "tst_df = tst_df.dropna()\n",
    "tst_df.head()"
   ]
  },
  {
   "cell_type": "code",
   "execution_count": 239,
   "id": "c1dc3219",
   "metadata": {},
   "outputs": [],
   "source": [
    "tst_df['Main specs Display diagonal']=tst_df['Main specs Display diagonal'].str.replace('Display diagonal: ','')"
   ]
  },
  {
   "cell_type": "code",
   "execution_count": 229,
   "id": "79333518",
   "metadata": {},
   "outputs": [
    {
     "data": {
      "text/html": [
       "<div>\n",
       "<style scoped>\n",
       "    .dataframe tbody tr th:only-of-type {\n",
       "        vertical-align: middle;\n",
       "    }\n",
       "\n",
       "    .dataframe tbody tr th {\n",
       "        vertical-align: top;\n",
       "    }\n",
       "\n",
       "    .dataframe thead th {\n",
       "        text-align: right;\n",
       "    }\n",
       "</style>\n",
       "<table border=\"1\" class=\"dataframe\">\n",
       "  <thead>\n",
       "    <tr style=\"text-align: right;\">\n",
       "      <th></th>\n",
       "      <th>title</th>\n",
       "      <th>Main specs Display diagonal</th>\n",
       "      <th>Main specs Processor</th>\n",
       "      <th>Main specs Internal memory</th>\n",
       "      <th>Main specs Graphics</th>\n",
       "      <th>Main specs Storage</th>\n",
       "      <th>Price</th>\n",
       "    </tr>\n",
       "  </thead>\n",
       "  <tbody>\n",
       "    <tr>\n",
       "      <th>0</th>\n",
       "      <td>Alienware 15 R3</td>\n",
       "      <td>15.6 inch</td>\n",
       "      <td>Processor: i7-7700HQ 2.8 GHz</td>\n",
       "      <td>Internal memory: 16 GB DDR4-SDRAM</td>\n",
       "      <td>Graphics: NVIDIA GeForce GTX 1060</td>\n",
       "      <td>Storage: 1256 GB HDD+SSD</td>\n",
       "      <td>About 2293 USD</td>\n",
       "    </tr>\n",
       "    <tr>\n",
       "      <th>1</th>\n",
       "      <td>Alienware 15 R3</td>\n",
       "      <td>15.6 inch</td>\n",
       "      <td>Processor: i5-7300HQ 2.5 GHz</td>\n",
       "      <td>Internal memory: 8 GB DDR4-SDRAM</td>\n",
       "      <td>Graphics: NVIDIA GeForce GTX 1060</td>\n",
       "      <td>Storage: 1000 GB HDD</td>\n",
       "      <td>About 1613 USD</td>\n",
       "    </tr>\n",
       "    <tr>\n",
       "      <th>2</th>\n",
       "      <td>Alienware 17 R4</td>\n",
       "      <td>17.3 inch</td>\n",
       "      <td>Processor: i7-7700HQ 2.8 GHz</td>\n",
       "      <td>Internal memory: 16 GB DDR4-SDRAM</td>\n",
       "      <td>Graphics: NVIDIA GeForce GTX 1070</td>\n",
       "      <td>Storage: 1256 GB HDD+SSD</td>\n",
       "      <td>About 2001 USD</td>\n",
       "    </tr>\n",
       "    <tr>\n",
       "      <th>6</th>\n",
       "      <td>DELL Inspiron 5770</td>\n",
       "      <td>17.3 inch</td>\n",
       "      <td>Processor: i5-8250U 1.60 GHz</td>\n",
       "      <td>Internal memory: 8 GB DDR4-SDRAM</td>\n",
       "      <td>Graphics: AMD Radeon 530</td>\n",
       "      <td>Storage: 1128 GB HDD+SSD</td>\n",
       "      <td>About 940 USD</td>\n",
       "    </tr>\n",
       "    <tr>\n",
       "      <th>10</th>\n",
       "      <td>DELL XPS 9560</td>\n",
       "      <td>15.6 inch</td>\n",
       "      <td>Processor: i5-7300HQ 2.5 GHz</td>\n",
       "      <td>Internal memory: 8 GB DDR4-SDRAM</td>\n",
       "      <td>Graphics: NVIDIA GeForce GTX 1050</td>\n",
       "      <td>Storage: 1128 GB HDD+SSD</td>\n",
       "      <td>About 1527 USD</td>\n",
       "    </tr>\n",
       "  </tbody>\n",
       "</table>\n",
       "</div>"
      ],
      "text/plain": [
       "                 title Main specs Display diagonal  \\\n",
       "0      Alienware 15 R3                   15.6 inch   \n",
       "1      Alienware 15 R3                   15.6 inch   \n",
       "2      Alienware 17 R4                   17.3 inch   \n",
       "6   DELL Inspiron 5770                   17.3 inch   \n",
       "10       DELL XPS 9560                   15.6 inch   \n",
       "\n",
       "            Main specs Processor         Main specs Internal memory  \\\n",
       "0   Processor: i7-7700HQ 2.8 GHz  Internal memory: 16 GB DDR4-SDRAM   \n",
       "1   Processor: i5-7300HQ 2.5 GHz   Internal memory: 8 GB DDR4-SDRAM   \n",
       "2   Processor: i7-7700HQ 2.8 GHz  Internal memory: 16 GB DDR4-SDRAM   \n",
       "6   Processor: i5-8250U 1.60 GHz   Internal memory: 8 GB DDR4-SDRAM   \n",
       "10  Processor: i5-7300HQ 2.5 GHz   Internal memory: 8 GB DDR4-SDRAM   \n",
       "\n",
       "                  Main specs Graphics        Main specs Storage  \\\n",
       "0   Graphics: NVIDIA GeForce GTX 1060  Storage: 1256 GB HDD+SSD   \n",
       "1   Graphics: NVIDIA GeForce GTX 1060      Storage: 1000 GB HDD   \n",
       "2   Graphics: NVIDIA GeForce GTX 1070  Storage: 1256 GB HDD+SSD   \n",
       "6            Graphics: AMD Radeon 530  Storage: 1128 GB HDD+SSD   \n",
       "10  Graphics: NVIDIA GeForce GTX 1050  Storage: 1128 GB HDD+SSD   \n",
       "\n",
       "              Price  \n",
       "0   About 2293 USD   \n",
       "1   About 1613 USD   \n",
       "2   About 2001 USD   \n",
       "6    About 940 USD   \n",
       "10  About 1527 USD   "
      ]
     },
     "execution_count": 229,
     "metadata": {},
     "output_type": "execute_result"
    }
   ],
   "source": [
    "tst_df.head()"
   ]
  },
  {
   "cell_type": "code",
   "execution_count": 240,
   "id": "6f3876e9",
   "metadata": {},
   "outputs": [],
   "source": [
    "tst_df['Main specs Display diagonal']=tst_df['Main specs Display diagonal'].str.replace('inch','')"
   ]
  },
  {
   "cell_type": "code",
   "execution_count": 231,
   "id": "e6988536",
   "metadata": {},
   "outputs": [
    {
     "data": {
      "text/html": [
       "<div>\n",
       "<style scoped>\n",
       "    .dataframe tbody tr th:only-of-type {\n",
       "        vertical-align: middle;\n",
       "    }\n",
       "\n",
       "    .dataframe tbody tr th {\n",
       "        vertical-align: top;\n",
       "    }\n",
       "\n",
       "    .dataframe thead th {\n",
       "        text-align: right;\n",
       "    }\n",
       "</style>\n",
       "<table border=\"1\" class=\"dataframe\">\n",
       "  <thead>\n",
       "    <tr style=\"text-align: right;\">\n",
       "      <th></th>\n",
       "      <th>title</th>\n",
       "      <th>Main specs Display diagonal</th>\n",
       "      <th>Main specs Processor</th>\n",
       "      <th>Main specs Internal memory</th>\n",
       "      <th>Main specs Graphics</th>\n",
       "      <th>Main specs Storage</th>\n",
       "      <th>Price</th>\n",
       "    </tr>\n",
       "  </thead>\n",
       "  <tbody>\n",
       "    <tr>\n",
       "      <th>0</th>\n",
       "      <td>Alienware 15 R3</td>\n",
       "      <td>15.6</td>\n",
       "      <td>Processor: i7-7700HQ 2.8 GHz</td>\n",
       "      <td>Internal memory: 16 GB DDR4-SDRAM</td>\n",
       "      <td>Graphics: NVIDIA GeForce GTX 1060</td>\n",
       "      <td>Storage: 1256 GB HDD+SSD</td>\n",
       "      <td>About 2293 USD</td>\n",
       "    </tr>\n",
       "    <tr>\n",
       "      <th>1</th>\n",
       "      <td>Alienware 15 R3</td>\n",
       "      <td>15.6</td>\n",
       "      <td>Processor: i5-7300HQ 2.5 GHz</td>\n",
       "      <td>Internal memory: 8 GB DDR4-SDRAM</td>\n",
       "      <td>Graphics: NVIDIA GeForce GTX 1060</td>\n",
       "      <td>Storage: 1000 GB HDD</td>\n",
       "      <td>About 1613 USD</td>\n",
       "    </tr>\n",
       "    <tr>\n",
       "      <th>2</th>\n",
       "      <td>Alienware 17 R4</td>\n",
       "      <td>17.3</td>\n",
       "      <td>Processor: i7-7700HQ 2.8 GHz</td>\n",
       "      <td>Internal memory: 16 GB DDR4-SDRAM</td>\n",
       "      <td>Graphics: NVIDIA GeForce GTX 1070</td>\n",
       "      <td>Storage: 1256 GB HDD+SSD</td>\n",
       "      <td>About 2001 USD</td>\n",
       "    </tr>\n",
       "  </tbody>\n",
       "</table>\n",
       "</div>"
      ],
      "text/plain": [
       "             title Main specs Display diagonal          Main specs Processor  \\\n",
       "0  Alienware 15 R3                       15.6   Processor: i7-7700HQ 2.8 GHz   \n",
       "1  Alienware 15 R3                       15.6   Processor: i5-7300HQ 2.5 GHz   \n",
       "2  Alienware 17 R4                       17.3   Processor: i7-7700HQ 2.8 GHz   \n",
       "\n",
       "          Main specs Internal memory                Main specs Graphics  \\\n",
       "0  Internal memory: 16 GB DDR4-SDRAM  Graphics: NVIDIA GeForce GTX 1060   \n",
       "1   Internal memory: 8 GB DDR4-SDRAM  Graphics: NVIDIA GeForce GTX 1060   \n",
       "2  Internal memory: 16 GB DDR4-SDRAM  Graphics: NVIDIA GeForce GTX 1070   \n",
       "\n",
       "         Main specs Storage            Price  \n",
       "0  Storage: 1256 GB HDD+SSD  About 2293 USD   \n",
       "1      Storage: 1000 GB HDD  About 1613 USD   \n",
       "2  Storage: 1256 GB HDD+SSD  About 2001 USD   "
      ]
     },
     "execution_count": 231,
     "metadata": {},
     "output_type": "execute_result"
    }
   ],
   "source": [
    "tst_df.head(3)"
   ]
  },
  {
   "cell_type": "code",
   "execution_count": 241,
   "id": "8812ca54",
   "metadata": {},
   "outputs": [],
   "source": [
    "tst_df['Main specs Internal memory']=tst_df['Main specs Internal memory'].str.replace('Internal memory: ','')"
   ]
  },
  {
   "cell_type": "code",
   "execution_count": 233,
   "id": "a82c1977",
   "metadata": {},
   "outputs": [
    {
     "data": {
      "text/html": [
       "<div>\n",
       "<style scoped>\n",
       "    .dataframe tbody tr th:only-of-type {\n",
       "        vertical-align: middle;\n",
       "    }\n",
       "\n",
       "    .dataframe tbody tr th {\n",
       "        vertical-align: top;\n",
       "    }\n",
       "\n",
       "    .dataframe thead th {\n",
       "        text-align: right;\n",
       "    }\n",
       "</style>\n",
       "<table border=\"1\" class=\"dataframe\">\n",
       "  <thead>\n",
       "    <tr style=\"text-align: right;\">\n",
       "      <th></th>\n",
       "      <th>title</th>\n",
       "      <th>Main specs Display diagonal</th>\n",
       "      <th>Main specs Processor</th>\n",
       "      <th>Main specs Internal memory</th>\n",
       "      <th>Main specs Graphics</th>\n",
       "      <th>Main specs Storage</th>\n",
       "      <th>Price</th>\n",
       "    </tr>\n",
       "  </thead>\n",
       "  <tbody>\n",
       "    <tr>\n",
       "      <th>0</th>\n",
       "      <td>Alienware 15 R3</td>\n",
       "      <td>15.6</td>\n",
       "      <td>Processor: i7-7700HQ 2.8 GHz</td>\n",
       "      <td>16 GB DDR4-SDRAM</td>\n",
       "      <td>Graphics: NVIDIA GeForce GTX 1060</td>\n",
       "      <td>Storage: 1256 GB HDD+SSD</td>\n",
       "      <td>About 2293 USD</td>\n",
       "    </tr>\n",
       "    <tr>\n",
       "      <th>1</th>\n",
       "      <td>Alienware 15 R3</td>\n",
       "      <td>15.6</td>\n",
       "      <td>Processor: i5-7300HQ 2.5 GHz</td>\n",
       "      <td>8 GB DDR4-SDRAM</td>\n",
       "      <td>Graphics: NVIDIA GeForce GTX 1060</td>\n",
       "      <td>Storage: 1000 GB HDD</td>\n",
       "      <td>About 1613 USD</td>\n",
       "    </tr>\n",
       "    <tr>\n",
       "      <th>2</th>\n",
       "      <td>Alienware 17 R4</td>\n",
       "      <td>17.3</td>\n",
       "      <td>Processor: i7-7700HQ 2.8 GHz</td>\n",
       "      <td>16 GB DDR4-SDRAM</td>\n",
       "      <td>Graphics: NVIDIA GeForce GTX 1070</td>\n",
       "      <td>Storage: 1256 GB HDD+SSD</td>\n",
       "      <td>About 2001 USD</td>\n",
       "    </tr>\n",
       "  </tbody>\n",
       "</table>\n",
       "</div>"
      ],
      "text/plain": [
       "             title Main specs Display diagonal          Main specs Processor  \\\n",
       "0  Alienware 15 R3                       15.6   Processor: i7-7700HQ 2.8 GHz   \n",
       "1  Alienware 15 R3                       15.6   Processor: i5-7300HQ 2.5 GHz   \n",
       "2  Alienware 17 R4                       17.3   Processor: i7-7700HQ 2.8 GHz   \n",
       "\n",
       "  Main specs Internal memory                Main specs Graphics  \\\n",
       "0           16 GB DDR4-SDRAM  Graphics: NVIDIA GeForce GTX 1060   \n",
       "1            8 GB DDR4-SDRAM  Graphics: NVIDIA GeForce GTX 1060   \n",
       "2           16 GB DDR4-SDRAM  Graphics: NVIDIA GeForce GTX 1070   \n",
       "\n",
       "         Main specs Storage            Price  \n",
       "0  Storage: 1256 GB HDD+SSD  About 2293 USD   \n",
       "1      Storage: 1000 GB HDD  About 1613 USD   \n",
       "2  Storage: 1256 GB HDD+SSD  About 2001 USD   "
      ]
     },
     "execution_count": 233,
     "metadata": {},
     "output_type": "execute_result"
    }
   ],
   "source": [
    "tst_df.head(3)"
   ]
  },
  {
   "cell_type": "code",
   "execution_count": 234,
   "id": "ca75958f",
   "metadata": {},
   "outputs": [
    {
     "data": {
      "text/plain": [
       "array(['16 GB DDR4-SDRAM', '8 GB DDR4-SDRAM', '32 GB DDR4-SDRAM',\n",
       "       '16 GB DDR3L-SDRAM'], dtype=object)"
      ]
     },
     "execution_count": 234,
     "metadata": {},
     "output_type": "execute_result"
    }
   ],
   "source": [
    "tst_df['Main specs Internal memory'].unique()"
   ]
  },
  {
   "cell_type": "code",
   "execution_count": 242,
   "id": "774b4629",
   "metadata": {},
   "outputs": [],
   "source": [
    "tst_df['Main specs Internal memory'] = tst_df['Main specs Internal memory'].str[:2]"
   ]
  },
  {
   "cell_type": "code",
   "execution_count": 243,
   "id": "5f2c6322",
   "metadata": {},
   "outputs": [
    {
     "data": {
      "text/html": [
       "<div>\n",
       "<style scoped>\n",
       "    .dataframe tbody tr th:only-of-type {\n",
       "        vertical-align: middle;\n",
       "    }\n",
       "\n",
       "    .dataframe tbody tr th {\n",
       "        vertical-align: top;\n",
       "    }\n",
       "\n",
       "    .dataframe thead th {\n",
       "        text-align: right;\n",
       "    }\n",
       "</style>\n",
       "<table border=\"1\" class=\"dataframe\">\n",
       "  <thead>\n",
       "    <tr style=\"text-align: right;\">\n",
       "      <th></th>\n",
       "      <th>title</th>\n",
       "      <th>Main specs Display diagonal</th>\n",
       "      <th>Main specs Processor</th>\n",
       "      <th>Main specs Internal memory</th>\n",
       "      <th>Main specs Graphics</th>\n",
       "      <th>Main specs Storage</th>\n",
       "      <th>Price</th>\n",
       "    </tr>\n",
       "  </thead>\n",
       "  <tbody>\n",
       "    <tr>\n",
       "      <th>0</th>\n",
       "      <td>Alienware 15 R3</td>\n",
       "      <td>15.6</td>\n",
       "      <td>Processor: i7-7700HQ 2.8 GHz</td>\n",
       "      <td>16</td>\n",
       "      <td>Graphics: NVIDIA GeForce GTX 1060</td>\n",
       "      <td>Storage: 1256 GB HDD+SSD</td>\n",
       "      <td>About 2293 USD</td>\n",
       "    </tr>\n",
       "    <tr>\n",
       "      <th>1</th>\n",
       "      <td>Alienware 15 R3</td>\n",
       "      <td>15.6</td>\n",
       "      <td>Processor: i5-7300HQ 2.5 GHz</td>\n",
       "      <td>8</td>\n",
       "      <td>Graphics: NVIDIA GeForce GTX 1060</td>\n",
       "      <td>Storage: 1000 GB HDD</td>\n",
       "      <td>About 1613 USD</td>\n",
       "    </tr>\n",
       "    <tr>\n",
       "      <th>2</th>\n",
       "      <td>Alienware 17 R4</td>\n",
       "      <td>17.3</td>\n",
       "      <td>Processor: i7-7700HQ 2.8 GHz</td>\n",
       "      <td>16</td>\n",
       "      <td>Graphics: NVIDIA GeForce GTX 1070</td>\n",
       "      <td>Storage: 1256 GB HDD+SSD</td>\n",
       "      <td>About 2001 USD</td>\n",
       "    </tr>\n",
       "  </tbody>\n",
       "</table>\n",
       "</div>"
      ],
      "text/plain": [
       "             title Main specs Display diagonal          Main specs Processor  \\\n",
       "0  Alienware 15 R3                       15.6   Processor: i7-7700HQ 2.8 GHz   \n",
       "1  Alienware 15 R3                       15.6   Processor: i5-7300HQ 2.5 GHz   \n",
       "2  Alienware 17 R4                       17.3   Processor: i7-7700HQ 2.8 GHz   \n",
       "\n",
       "  Main specs Internal memory                Main specs Graphics  \\\n",
       "0                         16  Graphics: NVIDIA GeForce GTX 1060   \n",
       "1                         8   Graphics: NVIDIA GeForce GTX 1060   \n",
       "2                         16  Graphics: NVIDIA GeForce GTX 1070   \n",
       "\n",
       "         Main specs Storage            Price  \n",
       "0  Storage: 1256 GB HDD+SSD  About 2293 USD   \n",
       "1      Storage: 1000 GB HDD  About 1613 USD   \n",
       "2  Storage: 1256 GB HDD+SSD  About 2001 USD   "
      ]
     },
     "execution_count": 243,
     "metadata": {},
     "output_type": "execute_result"
    }
   ],
   "source": [
    "tst_df.head(3)"
   ]
  },
  {
   "cell_type": "code",
   "execution_count": 244,
   "id": "d6eb11c1",
   "metadata": {},
   "outputs": [],
   "source": [
    "tst_df['Main specs Storage']=tst_df['Main specs Storage'].str.replace('Storage: ','')"
   ]
  },
  {
   "cell_type": "code",
   "execution_count": 245,
   "id": "089ee860",
   "metadata": {},
   "outputs": [
    {
     "data": {
      "text/plain": [
       "array(['1256 GB HDD+SSD', '1000 GB HDD', '1128 GB HDD+SSD', '512 GB SSD',\n",
       "       '1000 GB SSD', '2000 GB SSD', '256 GB SSD'], dtype=object)"
      ]
     },
     "execution_count": 245,
     "metadata": {},
     "output_type": "execute_result"
    }
   ],
   "source": [
    "tst_df['Main specs Storage'].unique()"
   ]
  },
  {
   "cell_type": "code",
   "execution_count": 246,
   "id": "6d648dcf",
   "metadata": {},
   "outputs": [],
   "source": [
    "tst_df['Main specs Storage'] = tst_df['Main specs Storage'].str[:4]"
   ]
  },
  {
   "cell_type": "code",
   "execution_count": 247,
   "id": "3b9ee207",
   "metadata": {},
   "outputs": [
    {
     "data": {
      "text/plain": [
       "array(['1256', '1000', '1128', '512 ', '2000', '256 '], dtype=object)"
      ]
     },
     "execution_count": 247,
     "metadata": {},
     "output_type": "execute_result"
    }
   ],
   "source": [
    "tst_df['Main specs Storage'].unique()"
   ]
  },
  {
   "cell_type": "code",
   "execution_count": 248,
   "id": "73434848",
   "metadata": {},
   "outputs": [],
   "source": [
    "tst_df['Main specs Storage'] = tst_df['Main specs Storage'].str.strip()"
   ]
  },
  {
   "cell_type": "code",
   "execution_count": 249,
   "id": "3aff127e",
   "metadata": {},
   "outputs": [],
   "source": [
    "tst_df['Main specs Internal memory'] = tst_df['Main specs Internal memory'].str.strip()"
   ]
  },
  {
   "cell_type": "code",
   "execution_count": 250,
   "id": "9bb31810",
   "metadata": {},
   "outputs": [
    {
     "data": {
      "text/html": [
       "<div>\n",
       "<style scoped>\n",
       "    .dataframe tbody tr th:only-of-type {\n",
       "        vertical-align: middle;\n",
       "    }\n",
       "\n",
       "    .dataframe tbody tr th {\n",
       "        vertical-align: top;\n",
       "    }\n",
       "\n",
       "    .dataframe thead th {\n",
       "        text-align: right;\n",
       "    }\n",
       "</style>\n",
       "<table border=\"1\" class=\"dataframe\">\n",
       "  <thead>\n",
       "    <tr style=\"text-align: right;\">\n",
       "      <th></th>\n",
       "      <th>title</th>\n",
       "      <th>Main specs Display diagonal</th>\n",
       "      <th>Main specs Processor</th>\n",
       "      <th>Main specs Internal memory</th>\n",
       "      <th>Main specs Graphics</th>\n",
       "      <th>Main specs Storage</th>\n",
       "      <th>Price</th>\n",
       "    </tr>\n",
       "  </thead>\n",
       "  <tbody>\n",
       "    <tr>\n",
       "      <th>0</th>\n",
       "      <td>Alienware 15 R3</td>\n",
       "      <td>15.6</td>\n",
       "      <td>Processor: i7-7700HQ 2.8 GHz</td>\n",
       "      <td>16</td>\n",
       "      <td>Graphics: NVIDIA GeForce GTX 1060</td>\n",
       "      <td>1256</td>\n",
       "      <td>About 2293 USD</td>\n",
       "    </tr>\n",
       "    <tr>\n",
       "      <th>1</th>\n",
       "      <td>Alienware 15 R3</td>\n",
       "      <td>15.6</td>\n",
       "      <td>Processor: i5-7300HQ 2.5 GHz</td>\n",
       "      <td>8</td>\n",
       "      <td>Graphics: NVIDIA GeForce GTX 1060</td>\n",
       "      <td>1000</td>\n",
       "      <td>About 1613 USD</td>\n",
       "    </tr>\n",
       "    <tr>\n",
       "      <th>2</th>\n",
       "      <td>Alienware 17 R4</td>\n",
       "      <td>17.3</td>\n",
       "      <td>Processor: i7-7700HQ 2.8 GHz</td>\n",
       "      <td>16</td>\n",
       "      <td>Graphics: NVIDIA GeForce GTX 1070</td>\n",
       "      <td>1256</td>\n",
       "      <td>About 2001 USD</td>\n",
       "    </tr>\n",
       "  </tbody>\n",
       "</table>\n",
       "</div>"
      ],
      "text/plain": [
       "             title Main specs Display diagonal          Main specs Processor  \\\n",
       "0  Alienware 15 R3                       15.6   Processor: i7-7700HQ 2.8 GHz   \n",
       "1  Alienware 15 R3                       15.6   Processor: i5-7300HQ 2.5 GHz   \n",
       "2  Alienware 17 R4                       17.3   Processor: i7-7700HQ 2.8 GHz   \n",
       "\n",
       "  Main specs Internal memory                Main specs Graphics  \\\n",
       "0                         16  Graphics: NVIDIA GeForce GTX 1060   \n",
       "1                          8  Graphics: NVIDIA GeForce GTX 1060   \n",
       "2                         16  Graphics: NVIDIA GeForce GTX 1070   \n",
       "\n",
       "  Main specs Storage            Price  \n",
       "0               1256  About 2293 USD   \n",
       "1               1000  About 1613 USD   \n",
       "2               1256  About 2001 USD   "
      ]
     },
     "execution_count": 250,
     "metadata": {},
     "output_type": "execute_result"
    }
   ],
   "source": [
    "tst_df.head(3)"
   ]
  },
  {
   "cell_type": "code",
   "execution_count": 251,
   "id": "d6449269",
   "metadata": {},
   "outputs": [
    {
     "name": "stdout",
     "output_type": "stream",
     "text": [
      "<class 'pandas.core.frame.DataFrame'>\n",
      "Int64Index: 13 entries, 0 to 82\n",
      "Data columns (total 7 columns):\n",
      " #   Column                       Non-Null Count  Dtype \n",
      "---  ------                       --------------  ----- \n",
      " 0   title                        13 non-null     object\n",
      " 1   Main specs Display diagonal  13 non-null     object\n",
      " 2   Main specs Processor         13 non-null     object\n",
      " 3   Main specs Internal memory   13 non-null     object\n",
      " 4   Main specs Graphics          13 non-null     object\n",
      " 5   Main specs Storage           13 non-null     object\n",
      " 6   Price                        13 non-null     object\n",
      "dtypes: object(7)\n",
      "memory usage: 832.0+ bytes\n"
     ]
    }
   ],
   "source": [
    "tst_df.info()"
   ]
  },
  {
   "cell_type": "code",
   "execution_count": 252,
   "id": "fb64633f",
   "metadata": {},
   "outputs": [],
   "source": [
    "tst_df['Main specs Display diagonal'] = tst_df['Main specs Display diagonal'].astype('float')\n",
    "tst_df['Main specs Internal memory'] = tst_df['Main specs Internal memory'].astype('float')\n",
    "tst_df['Main specs Storage'] = tst_df['Main specs Storage'].astype('float')"
   ]
  },
  {
   "cell_type": "code",
   "execution_count": 253,
   "id": "6a96db92",
   "metadata": {},
   "outputs": [
    {
     "name": "stdout",
     "output_type": "stream",
     "text": [
      "<class 'pandas.core.frame.DataFrame'>\n",
      "Int64Index: 13 entries, 0 to 82\n",
      "Data columns (total 7 columns):\n",
      " #   Column                       Non-Null Count  Dtype  \n",
      "---  ------                       --------------  -----  \n",
      " 0   title                        13 non-null     object \n",
      " 1   Main specs Display diagonal  13 non-null     float64\n",
      " 2   Main specs Processor         13 non-null     object \n",
      " 3   Main specs Internal memory   13 non-null     float64\n",
      " 4   Main specs Graphics          13 non-null     object \n",
      " 5   Main specs Storage           13 non-null     float64\n",
      " 6   Price                        13 non-null     object \n",
      "dtypes: float64(3), object(4)\n",
      "memory usage: 832.0+ bytes\n"
     ]
    }
   ],
   "source": [
    "tst_df.info()"
   ]
  },
  {
   "cell_type": "code",
   "execution_count": 264,
   "id": "1b30374c",
   "metadata": {},
   "outputs": [
    {
     "data": {
      "text/html": [
       "<div>\n",
       "<style scoped>\n",
       "    .dataframe tbody tr th:only-of-type {\n",
       "        vertical-align: middle;\n",
       "    }\n",
       "\n",
       "    .dataframe tbody tr th {\n",
       "        vertical-align: top;\n",
       "    }\n",
       "\n",
       "    .dataframe thead th {\n",
       "        text-align: right;\n",
       "    }\n",
       "</style>\n",
       "<table border=\"1\" class=\"dataframe\">\n",
       "  <thead>\n",
       "    <tr style=\"text-align: right;\">\n",
       "      <th></th>\n",
       "      <th>title</th>\n",
       "      <th>Main specs Display diagonal</th>\n",
       "      <th>Main specs Processor</th>\n",
       "      <th>Main specs Internal memory</th>\n",
       "      <th>Main specs Graphics</th>\n",
       "      <th>Main specs Storage</th>\n",
       "      <th>Price</th>\n",
       "      <th>predicted_price(dollors)</th>\n",
       "    </tr>\n",
       "  </thead>\n",
       "  <tbody>\n",
       "    <tr>\n",
       "      <th>0</th>\n",
       "      <td>Alienware 15 R3</td>\n",
       "      <td>15.6</td>\n",
       "      <td>Processor: i7-7700HQ 2.8 GHz</td>\n",
       "      <td>16.0</td>\n",
       "      <td>Graphics: NVIDIA GeForce GTX 1060</td>\n",
       "      <td>1256.0</td>\n",
       "      <td>About 2293 USD</td>\n",
       "      <td>1717.793114</td>\n",
       "    </tr>\n",
       "    <tr>\n",
       "      <th>1</th>\n",
       "      <td>Alienware 15 R3</td>\n",
       "      <td>15.6</td>\n",
       "      <td>Processor: i5-7300HQ 2.5 GHz</td>\n",
       "      <td>8.0</td>\n",
       "      <td>Graphics: NVIDIA GeForce GTX 1060</td>\n",
       "      <td>1000.0</td>\n",
       "      <td>About 1613 USD</td>\n",
       "      <td>911.860657</td>\n",
       "    </tr>\n",
       "    <tr>\n",
       "      <th>2</th>\n",
       "      <td>Alienware 17 R4</td>\n",
       "      <td>17.3</td>\n",
       "      <td>Processor: i7-7700HQ 2.8 GHz</td>\n",
       "      <td>16.0</td>\n",
       "      <td>Graphics: NVIDIA GeForce GTX 1070</td>\n",
       "      <td>1256.0</td>\n",
       "      <td>About 2001 USD</td>\n",
       "      <td>1801.737878</td>\n",
       "    </tr>\n",
       "    <tr>\n",
       "      <th>6</th>\n",
       "      <td>DELL Inspiron 5770</td>\n",
       "      <td>17.3</td>\n",
       "      <td>Processor: i5-8250U 1.60 GHz</td>\n",
       "      <td>8.0</td>\n",
       "      <td>Graphics: AMD Radeon 530</td>\n",
       "      <td>1128.0</td>\n",
       "      <td>About 940 USD</td>\n",
       "      <td>999.771795</td>\n",
       "    </tr>\n",
       "    <tr>\n",
       "      <th>10</th>\n",
       "      <td>DELL XPS 9560</td>\n",
       "      <td>15.6</td>\n",
       "      <td>Processor: i5-7300HQ 2.5 GHz</td>\n",
       "      <td>8.0</td>\n",
       "      <td>Graphics: NVIDIA GeForce GTX 1050</td>\n",
       "      <td>1128.0</td>\n",
       "      <td>About 1527 USD</td>\n",
       "      <td>915.827032</td>\n",
       "    </tr>\n",
       "    <tr>\n",
       "      <th>11</th>\n",
       "      <td>DELL XPS 9560</td>\n",
       "      <td>15.6</td>\n",
       "      <td>Processor: i7-7700HQ 2.8 GHz</td>\n",
       "      <td>16.0</td>\n",
       "      <td>Graphics: NVIDIA GeForce GTX 1050</td>\n",
       "      <td>512.0</td>\n",
       "      <td>About 1977 USD</td>\n",
       "      <td>1694.738562</td>\n",
       "    </tr>\n",
       "    <tr>\n",
       "      <th>14</th>\n",
       "      <td>DELL XPS 9570</td>\n",
       "      <td>15.6</td>\n",
       "      <td>Processor: i9-8950HK 2.90 GHz</td>\n",
       "      <td>32.0</td>\n",
       "      <td>Graphics: NVIDIA GeForce GTX 1050 Ti</td>\n",
       "      <td>1000.0</td>\n",
       "      <td>About 3068 USD</td>\n",
       "      <td>3305.859781</td>\n",
       "    </tr>\n",
       "    <tr>\n",
       "      <th>15</th>\n",
       "      <td>DELL XPS 9570</td>\n",
       "      <td>15.6</td>\n",
       "      <td>Processor: i7-8750H 2.20 GHz</td>\n",
       "      <td>16.0</td>\n",
       "      <td>Graphics: NVIDIA GeForce GTX 1050 Ti</td>\n",
       "      <td>512.0</td>\n",
       "      <td>About 2500 USD</td>\n",
       "      <td>1694.738562</td>\n",
       "    </tr>\n",
       "    <tr>\n",
       "      <th>16</th>\n",
       "      <td>DELL XPS 9570</td>\n",
       "      <td>15.6</td>\n",
       "      <td>Processor: i5-8300H 2.30 GHz</td>\n",
       "      <td>8.0</td>\n",
       "      <td>Graphics: NVIDIA GeForce GTX 1050</td>\n",
       "      <td>1128.0</td>\n",
       "      <td>About 1704 USD</td>\n",
       "      <td>915.827032</td>\n",
       "    </tr>\n",
       "    <tr>\n",
       "      <th>17</th>\n",
       "      <td>DELL XPS 9570</td>\n",
       "      <td>15.6</td>\n",
       "      <td>Processor: i9-8950HK 2.90 GHz</td>\n",
       "      <td>32.0</td>\n",
       "      <td>Graphics: NVIDIA GeForce GTX 1050 Ti</td>\n",
       "      <td>2000.0</td>\n",
       "      <td>About 3689 USD</td>\n",
       "      <td>3336.847082</td>\n",
       "    </tr>\n",
       "    <tr>\n",
       "      <th>18</th>\n",
       "      <td>DELL XPS 9570</td>\n",
       "      <td>15.6</td>\n",
       "      <td>Processor: i7-8750H 2.20 GHz</td>\n",
       "      <td>32.0</td>\n",
       "      <td>Graphics: NVIDIA GeForce GTX 1050 Ti</td>\n",
       "      <td>1000.0</td>\n",
       "      <td>About 2783 USD</td>\n",
       "      <td>3305.859781</td>\n",
       "    </tr>\n",
       "    <tr>\n",
       "      <th>20</th>\n",
       "      <td>DELL XPS 9575</td>\n",
       "      <td>15.6</td>\n",
       "      <td>Processor: i7-8705G 3.1 GHz</td>\n",
       "      <td>8.0</td>\n",
       "      <td>Graphics: AMD Radeon RX Vega M GL</td>\n",
       "      <td>512.0</td>\n",
       "      <td>About 2284 USD</td>\n",
       "      <td>896.738854</td>\n",
       "    </tr>\n",
       "    <tr>\n",
       "      <th>82</th>\n",
       "      <td>Toshiba Satellite Pro A50-C-24C</td>\n",
       "      <td>15.6</td>\n",
       "      <td>Processor: i7-6500U 2.5 GHz</td>\n",
       "      <td>16.0</td>\n",
       "      <td>Graphics: NVIDIA GeForce 930M</td>\n",
       "      <td>256.0</td>\n",
       "      <td>About 1095 USD</td>\n",
       "      <td>1686.805813</td>\n",
       "    </tr>\n",
       "  </tbody>\n",
       "</table>\n",
       "</div>"
      ],
      "text/plain": [
       "                              title  Main specs Display diagonal  \\\n",
       "0                   Alienware 15 R3                         15.6   \n",
       "1                   Alienware 15 R3                         15.6   \n",
       "2                   Alienware 17 R4                         17.3   \n",
       "6                DELL Inspiron 5770                         17.3   \n",
       "10                    DELL XPS 9560                         15.6   \n",
       "11                    DELL XPS 9560                         15.6   \n",
       "14                    DELL XPS 9570                         15.6   \n",
       "15                    DELL XPS 9570                         15.6   \n",
       "16                    DELL XPS 9570                         15.6   \n",
       "17                    DELL XPS 9570                         15.6   \n",
       "18                    DELL XPS 9570                         15.6   \n",
       "20                    DELL XPS 9575                         15.6   \n",
       "82  Toshiba Satellite Pro A50-C-24C                         15.6   \n",
       "\n",
       "             Main specs Processor  Main specs Internal memory  \\\n",
       "0    Processor: i7-7700HQ 2.8 GHz                        16.0   \n",
       "1    Processor: i5-7300HQ 2.5 GHz                         8.0   \n",
       "2    Processor: i7-7700HQ 2.8 GHz                        16.0   \n",
       "6    Processor: i5-8250U 1.60 GHz                         8.0   \n",
       "10   Processor: i5-7300HQ 2.5 GHz                         8.0   \n",
       "11   Processor: i7-7700HQ 2.8 GHz                        16.0   \n",
       "14  Processor: i9-8950HK 2.90 GHz                        32.0   \n",
       "15   Processor: i7-8750H 2.20 GHz                        16.0   \n",
       "16   Processor: i5-8300H 2.30 GHz                         8.0   \n",
       "17  Processor: i9-8950HK 2.90 GHz                        32.0   \n",
       "18   Processor: i7-8750H 2.20 GHz                        32.0   \n",
       "20    Processor: i7-8705G 3.1 GHz                         8.0   \n",
       "82    Processor: i7-6500U 2.5 GHz                        16.0   \n",
       "\n",
       "                     Main specs Graphics  Main specs Storage            Price  \\\n",
       "0      Graphics: NVIDIA GeForce GTX 1060              1256.0  About 2293 USD    \n",
       "1      Graphics: NVIDIA GeForce GTX 1060              1000.0  About 1613 USD    \n",
       "2      Graphics: NVIDIA GeForce GTX 1070              1256.0  About 2001 USD    \n",
       "6               Graphics: AMD Radeon 530              1128.0   About 940 USD    \n",
       "10     Graphics: NVIDIA GeForce GTX 1050              1128.0  About 1527 USD    \n",
       "11     Graphics: NVIDIA GeForce GTX 1050               512.0  About 1977 USD    \n",
       "14  Graphics: NVIDIA GeForce GTX 1050 Ti              1000.0  About 3068 USD    \n",
       "15  Graphics: NVIDIA GeForce GTX 1050 Ti               512.0  About 2500 USD    \n",
       "16     Graphics: NVIDIA GeForce GTX 1050              1128.0  About 1704 USD    \n",
       "17  Graphics: NVIDIA GeForce GTX 1050 Ti              2000.0  About 3689 USD    \n",
       "18  Graphics: NVIDIA GeForce GTX 1050 Ti              1000.0  About 2783 USD    \n",
       "20     Graphics: AMD Radeon RX Vega M GL               512.0  About 2284 USD    \n",
       "82         Graphics: NVIDIA GeForce 930M               256.0  About 1095 USD    \n",
       "\n",
       "    predicted_price(dollors)  \n",
       "0                1717.793114  \n",
       "1                 911.860657  \n",
       "2                1801.737878  \n",
       "6                 999.771795  \n",
       "10                915.827032  \n",
       "11               1694.738562  \n",
       "14               3305.859781  \n",
       "15               1694.738562  \n",
       "16                915.827032  \n",
       "17               3336.847082  \n",
       "18               3305.859781  \n",
       "20                896.738854  \n",
       "82               1686.805813  "
      ]
     },
     "execution_count": 264,
     "metadata": {},
     "output_type": "execute_result"
    }
   ],
   "source": [
    "x = tst_df[['Main specs Display diagonal', 'Main specs Internal memory', 'Main specs Storage']]\n",
    "tst_df['predicted_price(dollors)'] = reg.predict(x) * 1.2\n",
    "tst_df"
   ]
  },
  {
   "cell_type": "code",
   "execution_count": 269,
   "id": "610c4a05",
   "metadata": {},
   "outputs": [],
   "source": [
    "tst_df['Price']=tst_df['Price'].str.replace('About ','')\n",
    "tst_df['Price']=tst_df['Price'].str.replace('USD','')\n",
    "tst_df['Price']=tst_df['Price'].astype('float')"
   ]
  },
  {
   "cell_type": "code",
   "execution_count": 287,
   "id": "4d79af44",
   "metadata": {},
   "outputs": [
    {
     "data": {
      "text/html": [
       "<div>\n",
       "<style scoped>\n",
       "    .dataframe tbody tr th:only-of-type {\n",
       "        vertical-align: middle;\n",
       "    }\n",
       "\n",
       "    .dataframe tbody tr th {\n",
       "        vertical-align: top;\n",
       "    }\n",
       "\n",
       "    .dataframe thead th {\n",
       "        text-align: right;\n",
       "    }\n",
       "</style>\n",
       "<table border=\"1\" class=\"dataframe\">\n",
       "  <thead>\n",
       "    <tr style=\"text-align: right;\">\n",
       "      <th></th>\n",
       "      <th>title</th>\n",
       "      <th>Main specs Display diagonal</th>\n",
       "      <th>Main specs Processor</th>\n",
       "      <th>Main specs Internal memory</th>\n",
       "      <th>Main specs Graphics</th>\n",
       "      <th>Main specs Storage</th>\n",
       "      <th>Price</th>\n",
       "      <th>predicted_price(dollors)</th>\n",
       "    </tr>\n",
       "  </thead>\n",
       "  <tbody>\n",
       "    <tr>\n",
       "      <th>0</th>\n",
       "      <td>Alienware 15 R3</td>\n",
       "      <td>15.6</td>\n",
       "      <td>Processor: i7-7700HQ 2.8 GHz</td>\n",
       "      <td>16.0</td>\n",
       "      <td>Graphics: NVIDIA GeForce GTX 1060</td>\n",
       "      <td>1256.0</td>\n",
       "      <td>2293.0</td>\n",
       "      <td>1717.793114</td>\n",
       "    </tr>\n",
       "    <tr>\n",
       "      <th>1</th>\n",
       "      <td>Alienware 15 R3</td>\n",
       "      <td>15.6</td>\n",
       "      <td>Processor: i5-7300HQ 2.5 GHz</td>\n",
       "      <td>8.0</td>\n",
       "      <td>Graphics: NVIDIA GeForce GTX 1060</td>\n",
       "      <td>1000.0</td>\n",
       "      <td>1613.0</td>\n",
       "      <td>911.860657</td>\n",
       "    </tr>\n",
       "    <tr>\n",
       "      <th>2</th>\n",
       "      <td>Alienware 17 R4</td>\n",
       "      <td>17.3</td>\n",
       "      <td>Processor: i7-7700HQ 2.8 GHz</td>\n",
       "      <td>16.0</td>\n",
       "      <td>Graphics: NVIDIA GeForce GTX 1070</td>\n",
       "      <td>1256.0</td>\n",
       "      <td>2001.0</td>\n",
       "      <td>1801.737878</td>\n",
       "    </tr>\n",
       "    <tr>\n",
       "      <th>6</th>\n",
       "      <td>DELL Inspiron 5770</td>\n",
       "      <td>17.3</td>\n",
       "      <td>Processor: i5-8250U 1.60 GHz</td>\n",
       "      <td>8.0</td>\n",
       "      <td>Graphics: AMD Radeon 530</td>\n",
       "      <td>1128.0</td>\n",
       "      <td>940.0</td>\n",
       "      <td>999.771795</td>\n",
       "    </tr>\n",
       "    <tr>\n",
       "      <th>10</th>\n",
       "      <td>DELL XPS 9560</td>\n",
       "      <td>15.6</td>\n",
       "      <td>Processor: i5-7300HQ 2.5 GHz</td>\n",
       "      <td>8.0</td>\n",
       "      <td>Graphics: NVIDIA GeForce GTX 1050</td>\n",
       "      <td>1128.0</td>\n",
       "      <td>1527.0</td>\n",
       "      <td>915.827032</td>\n",
       "    </tr>\n",
       "    <tr>\n",
       "      <th>11</th>\n",
       "      <td>DELL XPS 9560</td>\n",
       "      <td>15.6</td>\n",
       "      <td>Processor: i7-7700HQ 2.8 GHz</td>\n",
       "      <td>16.0</td>\n",
       "      <td>Graphics: NVIDIA GeForce GTX 1050</td>\n",
       "      <td>512.0</td>\n",
       "      <td>1977.0</td>\n",
       "      <td>1694.738562</td>\n",
       "    </tr>\n",
       "    <tr>\n",
       "      <th>14</th>\n",
       "      <td>DELL XPS 9570</td>\n",
       "      <td>15.6</td>\n",
       "      <td>Processor: i9-8950HK 2.90 GHz</td>\n",
       "      <td>32.0</td>\n",
       "      <td>Graphics: NVIDIA GeForce GTX 1050 Ti</td>\n",
       "      <td>1000.0</td>\n",
       "      <td>3068.0</td>\n",
       "      <td>3305.859781</td>\n",
       "    </tr>\n",
       "    <tr>\n",
       "      <th>15</th>\n",
       "      <td>DELL XPS 9570</td>\n",
       "      <td>15.6</td>\n",
       "      <td>Processor: i7-8750H 2.20 GHz</td>\n",
       "      <td>16.0</td>\n",
       "      <td>Graphics: NVIDIA GeForce GTX 1050 Ti</td>\n",
       "      <td>512.0</td>\n",
       "      <td>2500.0</td>\n",
       "      <td>1694.738562</td>\n",
       "    </tr>\n",
       "    <tr>\n",
       "      <th>16</th>\n",
       "      <td>DELL XPS 9570</td>\n",
       "      <td>15.6</td>\n",
       "      <td>Processor: i5-8300H 2.30 GHz</td>\n",
       "      <td>8.0</td>\n",
       "      <td>Graphics: NVIDIA GeForce GTX 1050</td>\n",
       "      <td>1128.0</td>\n",
       "      <td>1704.0</td>\n",
       "      <td>915.827032</td>\n",
       "    </tr>\n",
       "    <tr>\n",
       "      <th>17</th>\n",
       "      <td>DELL XPS 9570</td>\n",
       "      <td>15.6</td>\n",
       "      <td>Processor: i9-8950HK 2.90 GHz</td>\n",
       "      <td>32.0</td>\n",
       "      <td>Graphics: NVIDIA GeForce GTX 1050 Ti</td>\n",
       "      <td>2000.0</td>\n",
       "      <td>3689.0</td>\n",
       "      <td>3336.847082</td>\n",
       "    </tr>\n",
       "    <tr>\n",
       "      <th>18</th>\n",
       "      <td>DELL XPS 9570</td>\n",
       "      <td>15.6</td>\n",
       "      <td>Processor: i7-8750H 2.20 GHz</td>\n",
       "      <td>32.0</td>\n",
       "      <td>Graphics: NVIDIA GeForce GTX 1050 Ti</td>\n",
       "      <td>1000.0</td>\n",
       "      <td>2783.0</td>\n",
       "      <td>3305.859781</td>\n",
       "    </tr>\n",
       "    <tr>\n",
       "      <th>20</th>\n",
       "      <td>DELL XPS 9575</td>\n",
       "      <td>15.6</td>\n",
       "      <td>Processor: i7-8705G 3.1 GHz</td>\n",
       "      <td>8.0</td>\n",
       "      <td>Graphics: AMD Radeon RX Vega M GL</td>\n",
       "      <td>512.0</td>\n",
       "      <td>2284.0</td>\n",
       "      <td>896.738854</td>\n",
       "    </tr>\n",
       "    <tr>\n",
       "      <th>82</th>\n",
       "      <td>Toshiba Satellite Pro A50-C-24C</td>\n",
       "      <td>15.6</td>\n",
       "      <td>Processor: i7-6500U 2.5 GHz</td>\n",
       "      <td>16.0</td>\n",
       "      <td>Graphics: NVIDIA GeForce 930M</td>\n",
       "      <td>256.0</td>\n",
       "      <td>1095.0</td>\n",
       "      <td>1686.805813</td>\n",
       "    </tr>\n",
       "  </tbody>\n",
       "</table>\n",
       "</div>"
      ],
      "text/plain": [
       "                              title  Main specs Display diagonal  \\\n",
       "0                   Alienware 15 R3                         15.6   \n",
       "1                   Alienware 15 R3                         15.6   \n",
       "2                   Alienware 17 R4                         17.3   \n",
       "6                DELL Inspiron 5770                         17.3   \n",
       "10                    DELL XPS 9560                         15.6   \n",
       "11                    DELL XPS 9560                         15.6   \n",
       "14                    DELL XPS 9570                         15.6   \n",
       "15                    DELL XPS 9570                         15.6   \n",
       "16                    DELL XPS 9570                         15.6   \n",
       "17                    DELL XPS 9570                         15.6   \n",
       "18                    DELL XPS 9570                         15.6   \n",
       "20                    DELL XPS 9575                         15.6   \n",
       "82  Toshiba Satellite Pro A50-C-24C                         15.6   \n",
       "\n",
       "             Main specs Processor  Main specs Internal memory  \\\n",
       "0    Processor: i7-7700HQ 2.8 GHz                        16.0   \n",
       "1    Processor: i5-7300HQ 2.5 GHz                         8.0   \n",
       "2    Processor: i7-7700HQ 2.8 GHz                        16.0   \n",
       "6    Processor: i5-8250U 1.60 GHz                         8.0   \n",
       "10   Processor: i5-7300HQ 2.5 GHz                         8.0   \n",
       "11   Processor: i7-7700HQ 2.8 GHz                        16.0   \n",
       "14  Processor: i9-8950HK 2.90 GHz                        32.0   \n",
       "15   Processor: i7-8750H 2.20 GHz                        16.0   \n",
       "16   Processor: i5-8300H 2.30 GHz                         8.0   \n",
       "17  Processor: i9-8950HK 2.90 GHz                        32.0   \n",
       "18   Processor: i7-8750H 2.20 GHz                        32.0   \n",
       "20    Processor: i7-8705G 3.1 GHz                         8.0   \n",
       "82    Processor: i7-6500U 2.5 GHz                        16.0   \n",
       "\n",
       "                     Main specs Graphics  Main specs Storage   Price  \\\n",
       "0      Graphics: NVIDIA GeForce GTX 1060              1256.0  2293.0   \n",
       "1      Graphics: NVIDIA GeForce GTX 1060              1000.0  1613.0   \n",
       "2      Graphics: NVIDIA GeForce GTX 1070              1256.0  2001.0   \n",
       "6               Graphics: AMD Radeon 530              1128.0   940.0   \n",
       "10     Graphics: NVIDIA GeForce GTX 1050              1128.0  1527.0   \n",
       "11     Graphics: NVIDIA GeForce GTX 1050               512.0  1977.0   \n",
       "14  Graphics: NVIDIA GeForce GTX 1050 Ti              1000.0  3068.0   \n",
       "15  Graphics: NVIDIA GeForce GTX 1050 Ti               512.0  2500.0   \n",
       "16     Graphics: NVIDIA GeForce GTX 1050              1128.0  1704.0   \n",
       "17  Graphics: NVIDIA GeForce GTX 1050 Ti              2000.0  3689.0   \n",
       "18  Graphics: NVIDIA GeForce GTX 1050 Ti              1000.0  2783.0   \n",
       "20     Graphics: AMD Radeon RX Vega M GL               512.0  2284.0   \n",
       "82         Graphics: NVIDIA GeForce 930M               256.0  1095.0   \n",
       "\n",
       "    predicted_price(dollors)  \n",
       "0                1717.793114  \n",
       "1                 911.860657  \n",
       "2                1801.737878  \n",
       "6                 999.771795  \n",
       "10                915.827032  \n",
       "11               1694.738562  \n",
       "14               3305.859781  \n",
       "15               1694.738562  \n",
       "16                915.827032  \n",
       "17               3336.847082  \n",
       "18               3305.859781  \n",
       "20                896.738854  \n",
       "82               1686.805813  "
      ]
     },
     "execution_count": 287,
     "metadata": {},
     "output_type": "execute_result"
    }
   ],
   "source": [
    "tst_df"
   ]
  },
  {
   "cell_type": "code",
   "execution_count": 296,
   "id": "30ba06c2",
   "metadata": {},
   "outputs": [],
   "source": [
    "from sklearn.metrics import mean_squared_error\n",
    "test_y = tst_df['Price']\n",
    "linear_predicted_rating = tst_df['predicted_price(dollors)']\n",
    "errors = mean_squared_error(test_y, linear_predicted_rating, squared=False)"
   ]
  },
  {
   "cell_type": "code",
   "execution_count": 297,
   "id": "8ca7a875",
   "metadata": {},
   "outputs": [
    {
     "name": "stdout",
     "output_type": "stream",
     "text": [
      "Mean Square Error is equal to  639.5492907848534\n"
     ]
    }
   ],
   "source": [
    "print( \"Mean Square Error is equal to \",errors)"
   ]
  },
  {
   "cell_type": "code",
   "execution_count": 312,
   "id": "b974462c",
   "metadata": {},
   "outputs": [],
   "source": [
    "from matplotlib import pyplot\n",
    "from sklearn.metrics import mean_squared_error\n",
    "# real value\n",
    "expected = tst_df['Price']\n",
    "# predicted value\n",
    "predicted = tst_df['predicted_price(dollors)']"
   ]
  },
  {
   "cell_type": "code",
   "execution_count": 329,
   "id": "98e2264a",
   "metadata": {},
   "outputs": [
    {
     "name": "stdout",
     "output_type": "stream",
     "text": [
      "The final error on new dataset is nearly 0.28346740968868145 percent.\n"
     ]
    }
   ],
   "source": [
    "errors_list = []\n",
    "errors_list = abs(expected - predicted) / expected\n",
    "totall_error = errors_list.sum() / errors_list.count()\n",
    "print('The final error on new dataset is nearly', totall_error,'percent.')"
   ]
  }
 ],
 "metadata": {
  "kernelspec": {
   "display_name": "Python 3 (ipykernel)",
   "language": "python",
   "name": "python3"
  },
  "language_info": {
   "codemirror_mode": {
    "name": "ipython",
    "version": 3
   },
   "file_extension": ".py",
   "mimetype": "text/x-python",
   "name": "python",
   "nbconvert_exporter": "python",
   "pygments_lexer": "ipython3",
   "version": "3.9.6"
  }
 },
 "nbformat": 4,
 "nbformat_minor": 5
}
